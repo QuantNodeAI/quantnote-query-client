{
 "cells": [
  {
   "cell_type": "markdown",
   "source": [
    "# Get trending topics across articles"
   ],
   "metadata": {
    "collapsed": false
   }
  },
  {
   "cell_type": "code",
   "execution_count": 1,
   "outputs": [],
   "source": [
    "import os\n",
    "import sys\n",
    "import dotenv\n",
    "module_path = os.path.abspath(os.path.join('..'))\n",
    "if module_path not in sys.path:\n",
    "    sys.path.append(module_path)"
   ],
   "metadata": {
    "collapsed": false
   }
  },
  {
   "cell_type": "code",
   "execution_count": 2,
   "outputs": [],
   "source": [
    "from quantnote_query_api.query_api_client import QuantNoteQueryApi"
   ],
   "metadata": {
    "collapsed": false
   }
  },
  {
   "cell_type": "markdown",
   "source": [
    "## Get Query api Client"
   ],
   "metadata": {
    "collapsed": false
   }
  },
  {
   "cell_type": "code",
   "execution_count": 3,
   "outputs": [
    {
     "data": {
      "text/plain": "<client.query_api_client.QuantNoteQueryApi at 0x7f2dae1c3700>"
     },
     "execution_count": 3,
     "metadata": {},
     "output_type": "execute_result"
    }
   ],
   "source": [
    "dotenv.load_dotenv(\".env\")\n",
    "AUTH_TOKEN = os.getenv(\"AUTH_TOKEN\")\n",
    "client = QuantNoteQueryApi(auth_token=AUTH_TOKEN, api_version=\"v1\")\n",
    "client"
   ],
   "metadata": {
    "collapsed": false
   }
  },
  {
   "cell_type": "markdown",
   "source": [
    "## Get most recent topics"
   ],
   "metadata": {
    "collapsed": false
   }
  },
  {
   "cell_type": "markdown",
   "source": [
    "Query directly on the database"
   ],
   "metadata": {
    "collapsed": false
   }
  },
  {
   "cell_type": "code",
   "execution_count": 4,
   "outputs": [
    {
     "data": {
      "text/plain": "Waiting for response till limit:   0%|          | 0/600 [00:00<?, ?it/s]",
      "application/vnd.jupyter.widget-view+json": {
       "version_major": 2,
       "version_minor": 0,
       "model_id": "6d19047d94ba427cb92afc21722f7e2d"
      }
     },
     "metadata": {},
     "output_type": "display_data"
    },
    {
     "data": {
      "text/plain": "                                             keywords  \\\n0   {samsung,apple,device,meta,amazon,phone,model,...   \n1   {company,share,sale,stock,price,profit,earning...   \n2   {window,cardano,attack,tab,hacker,brokers,brok...   \n3   {payment,money,card,bank,account,loan,purchase...   \n4   {revenue,result,growth,income,cost,sale,period...   \n5   {company,technology,industry,market,service,pr...   \n6   {uk,london,hair,australia,england,british,inqu...   \n7   {datum,user,code,function,api,app,ad,page,acce...   \n8   {app,nhl,tactic,scammer,visa,build,promoter,do...   \n9   {price,polygon,website,datum,risk,maker,invest...   \n10  {people,time,thing,story,way,life,world,fan,ne...   \n11  {game,player,team,brady,nfl,sport,deal,career,...   \n12  {regime,bull,bjp,specie,shanghai,collateral,ce...   \n13  {family,man,woman,police,people,child,home,tim...   \n14  {vehicle,tesla,canada,car,ev,musk,boeing,canad...   \n15  {china,ukraine,russia,russian,country,u.s.,eur...   \n16  {token,bitcoin,asset,user,blockchain,ethereum,...   \n17  {price,level,high,chart,resistance,dogecoin,ra...   \n18  {rate,market,inflation,fed,hike,price,increase...   \n19  {government,india,budget,biden,minister,countr...   \n20  {adani,group,investor,singapore,insider,airpor...   \n21  {patient,treatment,shell,study,disease,test,dr...   \n22  {statement,information,company,law,case,sec,ft...   \n23  {point,conversation,torstar,star,reader,opinio...   \n24  {avalanche,block,aircraft,behaviour,guideline,...   \n25  {rs,doctor,voyager,border,merger,tree,paris,me...   \n26  {trump,solana,santos,president,congress,electi...   \n27  {ai,chatgpt,regulator,asia_-_pacific,tool,open...   \n28  {twitter,nft,user,metaverse,tweet,platform,col...   \n29  {student,state,school,worker,city,plan,job,wor...   \n\n                                         top_articles  \n0   [[\"Caseology announces a ton of new cases for ...  \n1   [[\"Investors finally get a glimpse of Kopin Co...  \n2   [[\"Best deals of the day Feb. 1: Dyson Superso...  \n3   [[\"13 Best High-interest CDs and Savings Accou...  \n4   [[\"CSW Industrials Reports Fiscal 2023 Third Q...  \n5   [[\"ANDRITZ : to leverage KCF Technologies mach...  \n6   [[\"Who is Jordan? Meet Love Island’s latest bo...  \n7   [[\"FreeTaxUSA 2023 (Tax Year 2022)\",0.71407622...  \n8   [[\"Sophos Details First Fake Apps Found on App...  \n9   [[\"Coromandel International Q3 net profit at R...  \n10  [[\"Every 'The Proud Family: Louder and Prouder...  \n11  [[\"Tom Brady Is Retiring Is a Year Too Late, b...  \n12  [[\"New York City woman charged with financing ...  \n13  [[\"Dog that killed girl, 4, was family pet but...  \n14  [[\"Vibration disturbance led to SSLV mission f...  \n15  [[\"EU struggles to agree Russian oil product p...  \n16  [[\"Bitcoin Whale Just Transferred $21M BTC Fro...  \n17  [[\"Shiba Inu (SHIB) Price Primed to Surge Desp...  \n18  [[\"Fed nudges rates higher, forecasts further ...  \n19  [[\"FBI search of Biden’s Delaware beach home f...  \n20  [[\"Gautam Adani isn't Asia's richest person an...  \n21  [[\"Scientists develop new design principles to...  \n22  [[\"Sam Bankman-Fried barred from contacting FT...  \n23  [[\"Seton Hall takes down St. John’s (NY) 84-72...  \n24  [[\"Avalanche warning issued in four Kashmir di...  \n25  [[\"Research reveals new insights into ancient ...  \n26  [[\"Ski Report\",0.8534467816352844],[\"House GOP...  \n27  [[\"ChatGPT could hypothetically get hired as a...  \n28  [[\"Buying a Galaxy S23? Anker's new chargers a...  \n29  [[\"750 Temple University Graduate Workers Walk...  ",
      "text/html": "<div>\n<style scoped>\n    .dataframe tbody tr th:only-of-type {\n        vertical-align: middle;\n    }\n\n    .dataframe tbody tr th {\n        vertical-align: top;\n    }\n\n    .dataframe thead th {\n        text-align: right;\n    }\n</style>\n<table border=\"1\" class=\"dataframe\">\n  <thead>\n    <tr style=\"text-align: right;\">\n      <th></th>\n      <th>keywords</th>\n      <th>top_articles</th>\n    </tr>\n  </thead>\n  <tbody>\n    <tr>\n      <th>0</th>\n      <td>{samsung,apple,device,meta,amazon,phone,model,...</td>\n      <td>[[\"Caseology announces a ton of new cases for ...</td>\n    </tr>\n    <tr>\n      <th>1</th>\n      <td>{company,share,sale,stock,price,profit,earning...</td>\n      <td>[[\"Investors finally get a glimpse of Kopin Co...</td>\n    </tr>\n    <tr>\n      <th>2</th>\n      <td>{window,cardano,attack,tab,hacker,brokers,brok...</td>\n      <td>[[\"Best deals of the day Feb. 1: Dyson Superso...</td>\n    </tr>\n    <tr>\n      <th>3</th>\n      <td>{payment,money,card,bank,account,loan,purchase...</td>\n      <td>[[\"13 Best High-interest CDs and Savings Accou...</td>\n    </tr>\n    <tr>\n      <th>4</th>\n      <td>{revenue,result,growth,income,cost,sale,period...</td>\n      <td>[[\"CSW Industrials Reports Fiscal 2023 Third Q...</td>\n    </tr>\n    <tr>\n      <th>5</th>\n      <td>{company,technology,industry,market,service,pr...</td>\n      <td>[[\"ANDRITZ : to leverage KCF Technologies mach...</td>\n    </tr>\n    <tr>\n      <th>6</th>\n      <td>{uk,london,hair,australia,england,british,inqu...</td>\n      <td>[[\"Who is Jordan? Meet Love Island’s latest bo...</td>\n    </tr>\n    <tr>\n      <th>7</th>\n      <td>{datum,user,code,function,api,app,ad,page,acce...</td>\n      <td>[[\"FreeTaxUSA 2023 (Tax Year 2022)\",0.71407622...</td>\n    </tr>\n    <tr>\n      <th>8</th>\n      <td>{app,nhl,tactic,scammer,visa,build,promoter,do...</td>\n      <td>[[\"Sophos Details First Fake Apps Found on App...</td>\n    </tr>\n    <tr>\n      <th>9</th>\n      <td>{price,polygon,website,datum,risk,maker,invest...</td>\n      <td>[[\"Coromandel International Q3 net profit at R...</td>\n    </tr>\n    <tr>\n      <th>10</th>\n      <td>{people,time,thing,story,way,life,world,fan,ne...</td>\n      <td>[[\"Every 'The Proud Family: Louder and Prouder...</td>\n    </tr>\n    <tr>\n      <th>11</th>\n      <td>{game,player,team,brady,nfl,sport,deal,career,...</td>\n      <td>[[\"Tom Brady Is Retiring Is a Year Too Late, b...</td>\n    </tr>\n    <tr>\n      <th>12</th>\n      <td>{regime,bull,bjp,specie,shanghai,collateral,ce...</td>\n      <td>[[\"New York City woman charged with financing ...</td>\n    </tr>\n    <tr>\n      <th>13</th>\n      <td>{family,man,woman,police,people,child,home,tim...</td>\n      <td>[[\"Dog that killed girl, 4, was family pet but...</td>\n    </tr>\n    <tr>\n      <th>14</th>\n      <td>{vehicle,tesla,canada,car,ev,musk,boeing,canad...</td>\n      <td>[[\"Vibration disturbance led to SSLV mission f...</td>\n    </tr>\n    <tr>\n      <th>15</th>\n      <td>{china,ukraine,russia,russian,country,u.s.,eur...</td>\n      <td>[[\"EU struggles to agree Russian oil product p...</td>\n    </tr>\n    <tr>\n      <th>16</th>\n      <td>{token,bitcoin,asset,user,blockchain,ethereum,...</td>\n      <td>[[\"Bitcoin Whale Just Transferred $21M BTC Fro...</td>\n    </tr>\n    <tr>\n      <th>17</th>\n      <td>{price,level,high,chart,resistance,dogecoin,ra...</td>\n      <td>[[\"Shiba Inu (SHIB) Price Primed to Surge Desp...</td>\n    </tr>\n    <tr>\n      <th>18</th>\n      <td>{rate,market,inflation,fed,hike,price,increase...</td>\n      <td>[[\"Fed nudges rates higher, forecasts further ...</td>\n    </tr>\n    <tr>\n      <th>19</th>\n      <td>{government,india,budget,biden,minister,countr...</td>\n      <td>[[\"FBI search of Biden’s Delaware beach home f...</td>\n    </tr>\n    <tr>\n      <th>20</th>\n      <td>{adani,group,investor,singapore,insider,airpor...</td>\n      <td>[[\"Gautam Adani isn't Asia's richest person an...</td>\n    </tr>\n    <tr>\n      <th>21</th>\n      <td>{patient,treatment,shell,study,disease,test,dr...</td>\n      <td>[[\"Scientists develop new design principles to...</td>\n    </tr>\n    <tr>\n      <th>22</th>\n      <td>{statement,information,company,law,case,sec,ft...</td>\n      <td>[[\"Sam Bankman-Fried barred from contacting FT...</td>\n    </tr>\n    <tr>\n      <th>23</th>\n      <td>{point,conversation,torstar,star,reader,opinio...</td>\n      <td>[[\"Seton Hall takes down St. John’s (NY) 84-72...</td>\n    </tr>\n    <tr>\n      <th>24</th>\n      <td>{avalanche,block,aircraft,behaviour,guideline,...</td>\n      <td>[[\"Avalanche warning issued in four Kashmir di...</td>\n    </tr>\n    <tr>\n      <th>25</th>\n      <td>{rs,doctor,voyager,border,merger,tree,paris,me...</td>\n      <td>[[\"Research reveals new insights into ancient ...</td>\n    </tr>\n    <tr>\n      <th>26</th>\n      <td>{trump,solana,santos,president,congress,electi...</td>\n      <td>[[\"Ski Report\",0.8534467816352844],[\"House GOP...</td>\n    </tr>\n    <tr>\n      <th>27</th>\n      <td>{ai,chatgpt,regulator,asia_-_pacific,tool,open...</td>\n      <td>[[\"ChatGPT could hypothetically get hired as a...</td>\n    </tr>\n    <tr>\n      <th>28</th>\n      <td>{twitter,nft,user,metaverse,tweet,platform,col...</td>\n      <td>[[\"Buying a Galaxy S23? Anker's new chargers a...</td>\n    </tr>\n    <tr>\n      <th>29</th>\n      <td>{student,state,school,worker,city,plan,job,wor...</td>\n      <td>[[\"750 Temple University Graduate Workers Walk...</td>\n    </tr>\n  </tbody>\n</table>\n</div>"
     },
     "execution_count": 4,
     "metadata": {},
     "output_type": "execute_result"
    }
   ],
   "source": [
    "query = \"\"\"WITH latest_timestamp AS (SELECT timestamp\n",
    "                          FROM studies.helixir.topics\n",
    "                          ORDER BY timestamp desc\n",
    "                          limit 1)\n",
    "SELECT keywords, top_articles\n",
    "FROM studies.helixir.topics t, latest_timestamp\n",
    "WHERE t.timestamp = latest_timestamp.timestamp;\"\"\"\n",
    "\n",
    "response = client.get_data_response(query)\n",
    "response"
   ],
   "metadata": {
    "collapsed": false
   }
  },
  {
   "cell_type": "markdown",
   "source": [
    "Query with usage of custom function"
   ],
   "metadata": {
    "collapsed": false
   }
  },
  {
   "cell_type": "code",
   "execution_count": 5,
   "outputs": [
    {
     "data": {
      "text/plain": "Waiting for response till limit:   0%|          | 0/600 [00:00<?, ?it/s]",
      "application/vnd.jupyter.widget-view+json": {
       "version_major": 2,
       "version_minor": 0,
       "model_id": "6dcab50f484542e29066b8dc886855eb"
      }
     },
     "metadata": {},
     "output_type": "display_data"
    },
    {
     "data": {
      "text/plain": "                                         top_articles  \\\n0   [{\"title\":\"Every The Proud Family: Louder and ...   \n1   [{\"title\":\"ALOSETRON HYDROCHLORIDE tablet [Act...   \n2   [{\"title\":\"Ski Report\",\"probability\":0.8534467...   \n3   [{\"title\":\"Caseology announces a ton of new ca...   \n4   [{\"title\":\"Coromandel International Q3 net pro...   \n5   [{\"title\":\"Coinbase denies shutting NFT market...   \n6   [{\"title\":\"CSW Industrials Reports Fiscal 2023...   \n7   [{\"title\":\"Sophos Details First Fake Apps Foun...   \n8   [{\"title\":\"Investors finally get a glimpse of ...   \n9   [{\"title\":\"Best deals of the day Feb. 1: Dyson...   \n10  [{\"title\":\"FreeTaxUSA 2023 (Tax Year 2022)\",\"p...   \n11  [{\"title\":\"Girl, four, mauled to death by pet ...   \n12  [{\"title\":\"Sam Bankman-Fried barred from conta...   \n13  [{\"title\":\"Bitcoin Whale Just Transferred $21M...   \n14  [{\"title\":\"Fed nudges rates higher, forecasts ...   \n15  [{\"title\":\"FBI search of Biden’s Delaware beac...   \n16  [{\"title\":\"Microsoft rolls out ChatGPT-powered...   \n17  [{\"title\":\"ANDRITZ : to leverage KCF Technolog...   \n18  [{\"title\":\"Shiba Inu (SHIB) Price Primed to Su...   \n19  [{\"title\":\"Seton Hall takes down St. John’s (N...   \n20  [{\"title\":\"Avalanche warning issued in four Ka...   \n21  [{\"title\":\"New York City woman charged with fi...   \n22  [{\"title\":\"Vibration disturbance led to SSLV m...   \n23  [{\"title\":\"Russia vows to push Ukrainian army ...   \n24  [{\"title\":\"Gautam Adani isnt Asias richest per...   \n25  [{\"title\":\"Research reveals new insights into ...   \n26  [{\"title\":\"UCU stages strike action at Norther...   \n27  [{\"title\":\"The Ally money market account provi...   \n28  [{\"title\":\"Who is Jordan? Meet Love Island’s l...   \n29  [{\"title\":\"Mike Francesca: Tom Brady Wasnt the...   \n\n                                                topic  \n0   0.030*\"people\" + 0.021*\"time\" + 0.018*\"thing\" ...  \n1   0.022*\"patient\" + 0.021*\"treatment\" + 0.016*\"s...  \n2   0.017*\"trump\" + 0.017*\"solana\" + 0.016*\"santos...  \n3   0.030*\"samsung\" + 0.029*\"apple\" + 0.028*\"devic...  \n4   0.036*\"price\" + 0.035*\"polygon\" + 0.025*\"websi...  \n5   0.066*\"twitter\" + 0.062*\"nft\" + 0.050*\"user\" +...  \n6   0.031*\"revenue\" + 0.029*\"result\" + 0.024*\"grow...  \n7   0.049*\"app\" + 0.028*\"nhl\" + 0.018*\"tactic\" + 0...  \n8   0.140*\"company\" + 0.094*\"share\" + 0.066*\"sale\"...  \n9   0.044*\"window\" + 0.034*\"cardano\" + 0.031*\"atta...  \n10  0.034*\"datum\" + 0.023*\"user\" + 0.022*\"code\" + ...  \n11  0.020*\"family\" + 0.017*\"man\" + 0.016*\"woman\" +...  \n12  0.038*\"statement\" + 0.030*\"information\" + 0.02...  \n13  0.033*\"token\" + 0.029*\"bitcoin\" + 0.029*\"asset...  \n14  0.066*\"rate\" + 0.044*\"market\" + 0.036*\"inflati...  \n15  0.079*\"government\" + 0.062*\"india\" + 0.045*\"bu...  \n16  0.065*\"ai\" + 0.045*\"chatgpt\" + 0.033*\"regulato...  \n17  0.022*\"company\" + 0.014*\"technology\" + 0.013*\"...  \n18  0.107*\"price\" + 0.038*\"level\" + 0.023*\"high\" +...  \n19  0.070*\"point\" + 0.041*\"conversation\" + 0.033*\"...  \n20  0.046*\"avalanche\" + 0.031*\"block\" + 0.021*\"air...  \n21  0.033*\"regime\" + 0.028*\"bull\" + 0.017*\"bjp\" + ...  \n22  0.081*\"vehicle\" + 0.037*\"tesla\" + 0.036*\"canad...  \n23  0.048*\"china\" + 0.044*\"ukraine\" + 0.040*\"russi...  \n24  0.016*\"adani\" + 0.016*\"group\" + 0.014*\"investo...  \n25  0.034*\"rs\" + 0.031*\"doctor\" + 0.027*\"voyager\" ...  \n26  0.031*\"student\" + 0.026*\"state\" + 0.021*\"schoo...  \n27  0.043*\"payment\" + 0.035*\"money\" + 0.031*\"card\"...  \n28  0.052*\"uk\" + 0.040*\"london\" + 0.025*\"hair\" + 0...  \n29  0.113*\"game\" + 0.053*\"player\" + 0.045*\"team\" +...  ",
      "text/html": "<div>\n<style scoped>\n    .dataframe tbody tr th:only-of-type {\n        vertical-align: middle;\n    }\n\n    .dataframe tbody tr th {\n        vertical-align: top;\n    }\n\n    .dataframe thead th {\n        text-align: right;\n    }\n</style>\n<table border=\"1\" class=\"dataframe\">\n  <thead>\n    <tr style=\"text-align: right;\">\n      <th></th>\n      <th>top_articles</th>\n      <th>topic</th>\n    </tr>\n  </thead>\n  <tbody>\n    <tr>\n      <th>0</th>\n      <td>[{\"title\":\"Every The Proud Family: Louder and ...</td>\n      <td>0.030*\"people\" + 0.021*\"time\" + 0.018*\"thing\" ...</td>\n    </tr>\n    <tr>\n      <th>1</th>\n      <td>[{\"title\":\"ALOSETRON HYDROCHLORIDE tablet [Act...</td>\n      <td>0.022*\"patient\" + 0.021*\"treatment\" + 0.016*\"s...</td>\n    </tr>\n    <tr>\n      <th>2</th>\n      <td>[{\"title\":\"Ski Report\",\"probability\":0.8534467...</td>\n      <td>0.017*\"trump\" + 0.017*\"solana\" + 0.016*\"santos...</td>\n    </tr>\n    <tr>\n      <th>3</th>\n      <td>[{\"title\":\"Caseology announces a ton of new ca...</td>\n      <td>0.030*\"samsung\" + 0.029*\"apple\" + 0.028*\"devic...</td>\n    </tr>\n    <tr>\n      <th>4</th>\n      <td>[{\"title\":\"Coromandel International Q3 net pro...</td>\n      <td>0.036*\"price\" + 0.035*\"polygon\" + 0.025*\"websi...</td>\n    </tr>\n    <tr>\n      <th>5</th>\n      <td>[{\"title\":\"Coinbase denies shutting NFT market...</td>\n      <td>0.066*\"twitter\" + 0.062*\"nft\" + 0.050*\"user\" +...</td>\n    </tr>\n    <tr>\n      <th>6</th>\n      <td>[{\"title\":\"CSW Industrials Reports Fiscal 2023...</td>\n      <td>0.031*\"revenue\" + 0.029*\"result\" + 0.024*\"grow...</td>\n    </tr>\n    <tr>\n      <th>7</th>\n      <td>[{\"title\":\"Sophos Details First Fake Apps Foun...</td>\n      <td>0.049*\"app\" + 0.028*\"nhl\" + 0.018*\"tactic\" + 0...</td>\n    </tr>\n    <tr>\n      <th>8</th>\n      <td>[{\"title\":\"Investors finally get a glimpse of ...</td>\n      <td>0.140*\"company\" + 0.094*\"share\" + 0.066*\"sale\"...</td>\n    </tr>\n    <tr>\n      <th>9</th>\n      <td>[{\"title\":\"Best deals of the day Feb. 1: Dyson...</td>\n      <td>0.044*\"window\" + 0.034*\"cardano\" + 0.031*\"atta...</td>\n    </tr>\n    <tr>\n      <th>10</th>\n      <td>[{\"title\":\"FreeTaxUSA 2023 (Tax Year 2022)\",\"p...</td>\n      <td>0.034*\"datum\" + 0.023*\"user\" + 0.022*\"code\" + ...</td>\n    </tr>\n    <tr>\n      <th>11</th>\n      <td>[{\"title\":\"Girl, four, mauled to death by pet ...</td>\n      <td>0.020*\"family\" + 0.017*\"man\" + 0.016*\"woman\" +...</td>\n    </tr>\n    <tr>\n      <th>12</th>\n      <td>[{\"title\":\"Sam Bankman-Fried barred from conta...</td>\n      <td>0.038*\"statement\" + 0.030*\"information\" + 0.02...</td>\n    </tr>\n    <tr>\n      <th>13</th>\n      <td>[{\"title\":\"Bitcoin Whale Just Transferred $21M...</td>\n      <td>0.033*\"token\" + 0.029*\"bitcoin\" + 0.029*\"asset...</td>\n    </tr>\n    <tr>\n      <th>14</th>\n      <td>[{\"title\":\"Fed nudges rates higher, forecasts ...</td>\n      <td>0.066*\"rate\" + 0.044*\"market\" + 0.036*\"inflati...</td>\n    </tr>\n    <tr>\n      <th>15</th>\n      <td>[{\"title\":\"FBI search of Biden’s Delaware beac...</td>\n      <td>0.079*\"government\" + 0.062*\"india\" + 0.045*\"bu...</td>\n    </tr>\n    <tr>\n      <th>16</th>\n      <td>[{\"title\":\"Microsoft rolls out ChatGPT-powered...</td>\n      <td>0.065*\"ai\" + 0.045*\"chatgpt\" + 0.033*\"regulato...</td>\n    </tr>\n    <tr>\n      <th>17</th>\n      <td>[{\"title\":\"ANDRITZ : to leverage KCF Technolog...</td>\n      <td>0.022*\"company\" + 0.014*\"technology\" + 0.013*\"...</td>\n    </tr>\n    <tr>\n      <th>18</th>\n      <td>[{\"title\":\"Shiba Inu (SHIB) Price Primed to Su...</td>\n      <td>0.107*\"price\" + 0.038*\"level\" + 0.023*\"high\" +...</td>\n    </tr>\n    <tr>\n      <th>19</th>\n      <td>[{\"title\":\"Seton Hall takes down St. John’s (N...</td>\n      <td>0.070*\"point\" + 0.041*\"conversation\" + 0.033*\"...</td>\n    </tr>\n    <tr>\n      <th>20</th>\n      <td>[{\"title\":\"Avalanche warning issued in four Ka...</td>\n      <td>0.046*\"avalanche\" + 0.031*\"block\" + 0.021*\"air...</td>\n    </tr>\n    <tr>\n      <th>21</th>\n      <td>[{\"title\":\"New York City woman charged with fi...</td>\n      <td>0.033*\"regime\" + 0.028*\"bull\" + 0.017*\"bjp\" + ...</td>\n    </tr>\n    <tr>\n      <th>22</th>\n      <td>[{\"title\":\"Vibration disturbance led to SSLV m...</td>\n      <td>0.081*\"vehicle\" + 0.037*\"tesla\" + 0.036*\"canad...</td>\n    </tr>\n    <tr>\n      <th>23</th>\n      <td>[{\"title\":\"Russia vows to push Ukrainian army ...</td>\n      <td>0.048*\"china\" + 0.044*\"ukraine\" + 0.040*\"russi...</td>\n    </tr>\n    <tr>\n      <th>24</th>\n      <td>[{\"title\":\"Gautam Adani isnt Asias richest per...</td>\n      <td>0.016*\"adani\" + 0.016*\"group\" + 0.014*\"investo...</td>\n    </tr>\n    <tr>\n      <th>25</th>\n      <td>[{\"title\":\"Research reveals new insights into ...</td>\n      <td>0.034*\"rs\" + 0.031*\"doctor\" + 0.027*\"voyager\" ...</td>\n    </tr>\n    <tr>\n      <th>26</th>\n      <td>[{\"title\":\"UCU stages strike action at Norther...</td>\n      <td>0.031*\"student\" + 0.026*\"state\" + 0.021*\"schoo...</td>\n    </tr>\n    <tr>\n      <th>27</th>\n      <td>[{\"title\":\"The Ally money market account provi...</td>\n      <td>0.043*\"payment\" + 0.035*\"money\" + 0.031*\"card\"...</td>\n    </tr>\n    <tr>\n      <th>28</th>\n      <td>[{\"title\":\"Who is Jordan? Meet Love Island’s l...</td>\n      <td>0.052*\"uk\" + 0.040*\"london\" + 0.025*\"hair\" + 0...</td>\n    </tr>\n    <tr>\n      <th>29</th>\n      <td>[{\"title\":\"Mike Francesca: Tom Brady Wasnt the...</td>\n      <td>0.113*\"game\" + 0.053*\"player\" + 0.045*\"team\" +...</td>\n    </tr>\n  </tbody>\n</table>\n</div>"
     },
     "execution_count": 5,
     "metadata": {},
     "output_type": "execute_result"
    }
   ],
   "source": [
    "query2 = \"\"\"SELECT topic, top_articles\n",
    "FROM topics();\"\"\"\n",
    "\n",
    "topics = client.get_data_response(query2)\n",
    "topics"
   ],
   "metadata": {
    "collapsed": false
   }
  },
  {
   "cell_type": "markdown",
   "source": [
    "Get topics around given anchor words.\n",
    "It accepts comma separated list of anchor words and one numeric value for number of topics that should be modelled."
   ],
   "metadata": {
    "collapsed": false
   }
  },
  {
   "cell_type": "code",
   "execution_count": 7,
   "outputs": [
    {
     "data": {
      "text/plain": "Waiting for response till limit:   0%|          | 0/600 [00:00<?, ?it/s]",
      "application/vnd.jupyter.widget-view+json": {
       "version_major": 2,
       "version_minor": 0,
       "model_id": "00fd6185df12477a894be699cc4e4ba4"
      }
     },
     "metadata": {},
     "output_type": "display_data"
    },
    {
     "data": {
      "text/plain": "                                        top_articles  \\\n0  [{\"title\":\"Cryptocurrency Price Today: Ethereu...   \n1  [{\"title\":\"What If Elon Musk Made Dogecoin (DO...   \n2  [{\"title\":\"Tesla’s Net 2022 Bitcoin Losses Tot...   \n3  [{\"title\":\"Charlie Munger: U.S. should ban cry...   \n4  [{\"title\":\"Tether CTO Paolo Ardoino on taking ...   \n\n                                               topic  \n0  btc, bitcoin, the_federal_reserve_, decision, ...  \n1  btc, bitcoin, marketing, lose, transfer, the_d...  \n2  btc, bitcoin, debt, new_york, yield, pain, emp...  \n3  btc, problem, system, company, bitcoin, home, ...  \n4  btc, bitcoin, price, market, trend, eth, rsi, ...  ",
      "text/html": "<div>\n<style scoped>\n    .dataframe tbody tr th:only-of-type {\n        vertical-align: middle;\n    }\n\n    .dataframe tbody tr th {\n        vertical-align: top;\n    }\n\n    .dataframe thead th {\n        text-align: right;\n    }\n</style>\n<table border=\"1\" class=\"dataframe\">\n  <thead>\n    <tr style=\"text-align: right;\">\n      <th></th>\n      <th>top_articles</th>\n      <th>topic</th>\n    </tr>\n  </thead>\n  <tbody>\n    <tr>\n      <th>0</th>\n      <td>[{\"title\":\"Cryptocurrency Price Today: Ethereu...</td>\n      <td>btc, bitcoin, the_federal_reserve_, decision, ...</td>\n    </tr>\n    <tr>\n      <th>1</th>\n      <td>[{\"title\":\"What If Elon Musk Made Dogecoin (DO...</td>\n      <td>btc, bitcoin, marketing, lose, transfer, the_d...</td>\n    </tr>\n    <tr>\n      <th>2</th>\n      <td>[{\"title\":\"Tesla’s Net 2022 Bitcoin Losses Tot...</td>\n      <td>btc, bitcoin, debt, new_york, yield, pain, emp...</td>\n    </tr>\n    <tr>\n      <th>3</th>\n      <td>[{\"title\":\"Charlie Munger: U.S. should ban cry...</td>\n      <td>btc, problem, system, company, bitcoin, home, ...</td>\n    </tr>\n    <tr>\n      <th>4</th>\n      <td>[{\"title\":\"Tether CTO Paolo Ardoino on taking ...</td>\n      <td>btc, bitcoin, price, market, trend, eth, rsi, ...</td>\n    </tr>\n  </tbody>\n</table>\n</div>"
     },
     "execution_count": 7,
     "metadata": {},
     "output_type": "execute_result"
    }
   ],
   "source": [
    "anchors_query = \"\"\"SELECT topic, top_articles\n",
    "FROM topics('bitcoin', 'btc', 5);\"\"\"\n",
    "\n",
    "anchors_topics = client.get_data_response(anchors_query)\n",
    "anchors_topics"
   ],
   "metadata": {
    "collapsed": false
   }
  },
  {
   "cell_type": "code",
   "execution_count": null,
   "outputs": [],
   "source": [],
   "metadata": {
    "collapsed": false
   }
  }
 ],
 "metadata": {
  "kernelspec": {
   "display_name": "Python 3",
   "language": "python",
   "name": "python3"
  },
  "language_info": {
   "codemirror_mode": {
    "name": "ipython",
    "version": 2
   },
   "file_extension": ".py",
   "mimetype": "text/x-python",
   "name": "python",
   "nbconvert_exporter": "python",
   "pygments_lexer": "ipython2",
   "version": "2.7.6"
  }
 },
 "nbformat": 4,
 "nbformat_minor": 0
}

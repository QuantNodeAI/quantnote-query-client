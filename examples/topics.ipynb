{
 "cells": [
  {
   "cell_type": "markdown",
   "source": [
    "# Get trending topics across articles"
   ],
   "metadata": {
    "collapsed": false
   }
  },
  {
   "cell_type": "code",
   "execution_count": 1,
   "outputs": [],
   "source": [
    "import os\n",
    "import sys\n",
    "import dotenv\n",
    "module_path = os.path.abspath(os.path.join('..'))\n",
    "if module_path not in sys.path:\n",
    "    sys.path.append(module_path)"
   ],
   "metadata": {
    "collapsed": false
   }
  },
  {
   "cell_type": "code",
   "execution_count": 2,
   "outputs": [],
   "source": [
    "from client.query_api_client import HelixirQueryApi"
   ],
   "metadata": {
    "collapsed": false
   }
  },
  {
   "cell_type": "markdown",
   "source": [
    "## Get Query api Client"
   ],
   "metadata": {
    "collapsed": false
   }
  },
  {
   "cell_type": "code",
   "execution_count": 3,
   "outputs": [
    {
     "data": {
      "text/plain": "<client.query_api_client.HelixirQueryApi at 0x7f5f0efca5c0>"
     },
     "execution_count": 3,
     "metadata": {},
     "output_type": "execute_result"
    }
   ],
   "source": [
    "dotenv.load_dotenv(\".env\")\n",
    "AUTH_TOKEN = os.getenv(\"AUTH_TOKEN\")\n",
    "client = HelixirQueryApi(auth_token=AUTH_TOKEN, api_server=\"http://167.235.251.238:3000\", api_version=\"dev\")\n",
    "client"
   ],
   "metadata": {
    "collapsed": false
   }
  },
  {
   "cell_type": "markdown",
   "source": [
    "## Get most recent topics"
   ],
   "metadata": {
    "collapsed": false
   }
  },
  {
   "cell_type": "code",
   "execution_count": 4,
   "outputs": [
    {
     "data": {
      "text/plain": "Waiting for response till limit:   0%|          | 0/600 [00:00<?, ?it/s]",
      "application/vnd.jupyter.widget-view+json": {
       "version_major": 2,
       "version_minor": 0,
       "model_id": "a3abe33ee96844dbaac832fdd2d3f796"
      }
     },
     "metadata": {},
     "output_type": "display_data"
    },
    {
     "data": {
      "text/plain": "                                             keywords  \\\n0   {ukraine,tank,russia,russian,war,germany,ukrai...   \n1   {people,time,life,child,lot,thing,woman,family...   \n2   {india,government,country,indian,budget,state,...   \n3   {bill,conversation,house,election,congress,sta...   \n4   {market,rate,price,us,inflation,u.s.,economy,d...   \n5   {price,bitcoin,token,ethereum,level,market,coi...   \n6   {bjp,flight,francis,documentary,event,bbc,part...   \n7   {share,company,stock,earning,revenue,price,sal...   \n8   {worker,microsoft,employee,google,amazon,compa...   \n9   {case,law,report,court,sec,statement,investiga...   \n10  {film,nomination,movie,grayscale,netflix,actor...   \n11  {allowance,doge,slot,r,met,hindu,hassan,routin...   \n12  {model,app,user,feature,code,datum,function,im...   \n13  {currency,upgrade,shanghai,cpi,ecb,inmate,fabr...   \n14  {asset,fund,exchange,ftx,firm,binance,money,wa...   \n15  {user,nft,stablecoin,platform,project,website,...   \n16  {proposal,eu,regulation,bank,australian,rule,l...   \n17  {student,school,earth,course,vatican,universit...   \n18  {group,attack,water,researcher,research,box,ha...   \n19  {game,player,point,goal,team,win,shot,time,mat...   \n20  {people,uk,area,statement,staff,incident,repor...   \n21  {china,chinese,japan,brazil,rs,santos,matrix,b...   \n22  {avalanche,contract,coach,colorado,washington,...   \n23  {company,technology,industry,system,platform,s...   \n24  {tesla,vehicle,ev,elon_musk,cut,vancouver,euge...   \n25  {police,car,man,woman,victim,officer,vehicle,d...   \n26  {patient,musk,paris,guest,snow,treatment,hospi...   \n27  {coinbase,infection,kraken,tennessee,welfare,c...   \n28  {document,trump,genesis,lawsuit,biden,blockfi,...   \n29  {income,loan,loss,rate,growth,increase,asset,e...   \n\n                                         top_articles  \n0   [[\"Germany Plans Sending Leopard 2 Tanks To Uk...  \n1   [[\"Recent home sales in Greater Boston (Jan. 2...  \n2   [[\"Visakhapatnam: YSRCP has no need to fear ab...  \n3   [[\"McConnell says McCarthy should take the lea...  \n4   [[\"U.S. business activity still soft in early ...  \n5   [[\"UNI drops below $6.61 as bearish market sen...  \n6   [[\"Drama at Ernakulam Law College as power sna...  \n7   [[\"Earnings Scheduled For January 25, 2023\",0....  \n8   [[\"US President Joe Biden understands first-ha...  \n9   [[\"Binance Moved $346 Million for Seized Crypt...  \n10  [[\"Colin Farrell ‘beyond honoured’ to receive ...  \n11  [[\"We brought people together yet again throug...  \n12  [[\"What is the Android Files Safe folder and h...  \n13  [[\"Fluree Announces Partnership with Fabric — ...  \n14  [[\"Binance admits reserve tokens were mistaken...  \n15  [[\"NextEra Energy earnings beat by $0.01, reve...  \n16  [[\"EU lawmakers vote in favor of more restrict...  \n17  [[\"Two-day yoga and meditation seminar to be o...  \n18  [[\"Court to hear oral arguments in Grayscale’s...  \n19  [[\"Steven Stamkos: One of the Most Underrated ...  \n20  [[\"High-ground efforts delayed in search for m...  \n21  [[\"Doing important transformation with AI: Gen...  \n22  [[\"Free Agent Signings\",0.7098674774169922],[\"...  \n23  [[\"Genesis Coin Inc, Powering 35% of Global Bi...  \n24  [[\"Olive Ridley turtle lays eggs on Trasi beac...  \n25  [[\"Man, 25, stabbed his neighbour to death aft...  \n26  [[\"New Greater Tortue Ahmeyim (GTA) Milestone ...  \n27  [[\"Over 500K BTC left Gemini, Kraken, Coinbase...  \n28  [[\"Biden 'completely wrong' to deny 'obvious r...  \n29  [[\"Southern California Bancorp Reports Record ...  ",
      "text/html": "<div>\n<style scoped>\n    .dataframe tbody tr th:only-of-type {\n        vertical-align: middle;\n    }\n\n    .dataframe tbody tr th {\n        vertical-align: top;\n    }\n\n    .dataframe thead th {\n        text-align: right;\n    }\n</style>\n<table border=\"1\" class=\"dataframe\">\n  <thead>\n    <tr style=\"text-align: right;\">\n      <th></th>\n      <th>keywords</th>\n      <th>top_articles</th>\n    </tr>\n  </thead>\n  <tbody>\n    <tr>\n      <th>0</th>\n      <td>{ukraine,tank,russia,russian,war,germany,ukrai...</td>\n      <td>[[\"Germany Plans Sending Leopard 2 Tanks To Uk...</td>\n    </tr>\n    <tr>\n      <th>1</th>\n      <td>{people,time,life,child,lot,thing,woman,family...</td>\n      <td>[[\"Recent home sales in Greater Boston (Jan. 2...</td>\n    </tr>\n    <tr>\n      <th>2</th>\n      <td>{india,government,country,indian,budget,state,...</td>\n      <td>[[\"Visakhapatnam: YSRCP has no need to fear ab...</td>\n    </tr>\n    <tr>\n      <th>3</th>\n      <td>{bill,conversation,house,election,congress,sta...</td>\n      <td>[[\"McConnell says McCarthy should take the lea...</td>\n    </tr>\n    <tr>\n      <th>4</th>\n      <td>{market,rate,price,us,inflation,u.s.,economy,d...</td>\n      <td>[[\"U.S. business activity still soft in early ...</td>\n    </tr>\n    <tr>\n      <th>5</th>\n      <td>{price,bitcoin,token,ethereum,level,market,coi...</td>\n      <td>[[\"UNI drops below $6.61 as bearish market sen...</td>\n    </tr>\n    <tr>\n      <th>6</th>\n      <td>{bjp,flight,francis,documentary,event,bbc,part...</td>\n      <td>[[\"Drama at Ernakulam Law College as power sna...</td>\n    </tr>\n    <tr>\n      <th>7</th>\n      <td>{share,company,stock,earning,revenue,price,sal...</td>\n      <td>[[\"Earnings Scheduled For January 25, 2023\",0....</td>\n    </tr>\n    <tr>\n      <th>8</th>\n      <td>{worker,microsoft,employee,google,amazon,compa...</td>\n      <td>[[\"US President Joe Biden understands first-ha...</td>\n    </tr>\n    <tr>\n      <th>9</th>\n      <td>{case,law,report,court,sec,statement,investiga...</td>\n      <td>[[\"Binance Moved $346 Million for Seized Crypt...</td>\n    </tr>\n    <tr>\n      <th>10</th>\n      <td>{film,nomination,movie,grayscale,netflix,actor...</td>\n      <td>[[\"Colin Farrell ‘beyond honoured’ to receive ...</td>\n    </tr>\n    <tr>\n      <th>11</th>\n      <td>{allowance,doge,slot,r,met,hindu,hassan,routin...</td>\n      <td>[[\"We brought people together yet again throug...</td>\n    </tr>\n    <tr>\n      <th>12</th>\n      <td>{model,app,user,feature,code,datum,function,im...</td>\n      <td>[[\"What is the Android Files Safe folder and h...</td>\n    </tr>\n    <tr>\n      <th>13</th>\n      <td>{currency,upgrade,shanghai,cpi,ecb,inmate,fabr...</td>\n      <td>[[\"Fluree Announces Partnership with Fabric — ...</td>\n    </tr>\n    <tr>\n      <th>14</th>\n      <td>{asset,fund,exchange,ftx,firm,binance,money,wa...</td>\n      <td>[[\"Binance admits reserve tokens were mistaken...</td>\n    </tr>\n    <tr>\n      <th>15</th>\n      <td>{user,nft,stablecoin,platform,project,website,...</td>\n      <td>[[\"NextEra Energy earnings beat by $0.01, reve...</td>\n    </tr>\n    <tr>\n      <th>16</th>\n      <td>{proposal,eu,regulation,bank,australian,rule,l...</td>\n      <td>[[\"EU lawmakers vote in favor of more restrict...</td>\n    </tr>\n    <tr>\n      <th>17</th>\n      <td>{student,school,earth,course,vatican,universit...</td>\n      <td>[[\"Two-day yoga and meditation seminar to be o...</td>\n    </tr>\n    <tr>\n      <th>18</th>\n      <td>{group,attack,water,researcher,research,box,ha...</td>\n      <td>[[\"Court to hear oral arguments in Grayscale’s...</td>\n    </tr>\n    <tr>\n      <th>19</th>\n      <td>{game,player,point,goal,team,win,shot,time,mat...</td>\n      <td>[[\"Steven Stamkos: One of the Most Underrated ...</td>\n    </tr>\n    <tr>\n      <th>20</th>\n      <td>{people,uk,area,statement,staff,incident,repor...</td>\n      <td>[[\"High-ground efforts delayed in search for m...</td>\n    </tr>\n    <tr>\n      <th>21</th>\n      <td>{china,chinese,japan,brazil,rs,santos,matrix,b...</td>\n      <td>[[\"Doing important transformation with AI: Gen...</td>\n    </tr>\n    <tr>\n      <th>22</th>\n      <td>{avalanche,contract,coach,colorado,washington,...</td>\n      <td>[[\"Free Agent Signings\",0.7098674774169922],[\"...</td>\n    </tr>\n    <tr>\n      <th>23</th>\n      <td>{company,technology,industry,system,platform,s...</td>\n      <td>[[\"Genesis Coin Inc, Powering 35% of Global Bi...</td>\n    </tr>\n    <tr>\n      <th>24</th>\n      <td>{tesla,vehicle,ev,elon_musk,cut,vancouver,euge...</td>\n      <td>[[\"Olive Ridley turtle lays eggs on Trasi beac...</td>\n    </tr>\n    <tr>\n      <th>25</th>\n      <td>{police,car,man,woman,victim,officer,vehicle,d...</td>\n      <td>[[\"Man, 25, stabbed his neighbour to death aft...</td>\n    </tr>\n    <tr>\n      <th>26</th>\n      <td>{patient,musk,paris,guest,snow,treatment,hospi...</td>\n      <td>[[\"New Greater Tortue Ahmeyim (GTA) Milestone ...</td>\n    </tr>\n    <tr>\n      <th>27</th>\n      <td>{coinbase,infection,kraken,tennessee,welfare,c...</td>\n      <td>[[\"Over 500K BTC left Gemini, Kraken, Coinbase...</td>\n    </tr>\n    <tr>\n      <th>28</th>\n      <td>{document,trump,genesis,lawsuit,biden,blockfi,...</td>\n      <td>[[\"Biden 'completely wrong' to deny 'obvious r...</td>\n    </tr>\n    <tr>\n      <th>29</th>\n      <td>{income,loan,loss,rate,growth,increase,asset,e...</td>\n      <td>[[\"Southern California Bancorp Reports Record ...</td>\n    </tr>\n  </tbody>\n</table>\n</div>"
     },
     "execution_count": 4,
     "metadata": {},
     "output_type": "execute_result"
    }
   ],
   "source": [
    "query = \"\"\"WITH latest_timestamp AS (SELECT timestamp\n",
    "                          FROM studies.helixir.topics\n",
    "                          ORDER BY timestamp desc\n",
    "                          limit 1)\n",
    "SELECT keywords, top_articles\n",
    "FROM studies.helixir.topics t, latest_timestamp\n",
    "WHERE t.timestamp = latest_timestamp.timestamp;\"\"\"\n",
    "\n",
    "response = client.get_data_response(query)\n",
    "response"
   ],
   "metadata": {
    "collapsed": false
   }
  },
  {
   "cell_type": "code",
   "execution_count": null,
   "outputs": [],
   "source": [],
   "metadata": {
    "collapsed": false
   }
  }
 ],
 "metadata": {
  "kernelspec": {
   "display_name": "Python 3",
   "language": "python",
   "name": "python3"
  },
  "language_info": {
   "codemirror_mode": {
    "name": "ipython",
    "version": 2
   },
   "file_extension": ".py",
   "mimetype": "text/x-python",
   "name": "python",
   "nbconvert_exporter": "python",
   "pygments_lexer": "ipython2",
   "version": "2.7.6"
  }
 },
 "nbformat": 4,
 "nbformat_minor": 0
}

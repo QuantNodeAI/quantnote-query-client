{
 "cells": [
  {
   "cell_type": "markdown",
   "source": [
    "# Crypto Events Example"
   ],
   "metadata": {
    "collapsed": false
   }
  },
  {
   "cell_type": "code",
   "execution_count": 2,
   "outputs": [
    {
     "name": "stderr",
     "output_type": "stream",
     "text": [
      "UsageError: Line magic function `%` not found.\n"
     ]
    }
   ],
   "source": [
    "% reload_ext autoreload\n",
    "% autoreload 2"
   ],
   "metadata": {
    "collapsed": false
   }
  },
  {
   "cell_type": "code",
   "execution_count": 3,
   "outputs": [],
   "source": [
    "import os\n",
    "import sys\n",
    "import dotenv\n",
    "import plotly.graph_objects as go\n",
    "from plotly.subplots import make_subplots\n",
    "import pandas as pd\n",
    "\n",
    "module_path = os.path.abspath(os.path.join('..'))\n",
    "if module_path not in sys.path:\n",
    "    sys.path.append(module_path)"
   ],
   "metadata": {
    "collapsed": false
   }
  },
  {
   "cell_type": "code",
   "execution_count": 4,
   "outputs": [],
   "source": [
    "from client.query_api_client import HelixirQueryApi"
   ],
   "metadata": {
    "collapsed": false
   }
  },
  {
   "cell_type": "markdown",
   "source": [
    "## Create api client"
   ],
   "metadata": {
    "collapsed": false
   }
  },
  {
   "cell_type": "code",
   "execution_count": 5,
   "outputs": [
    {
     "data": {
      "text/plain": "<client.query_api_client.HelixirQueryApi at 0x7f41ea7ae5f0>"
     },
     "execution_count": 5,
     "metadata": {},
     "output_type": "execute_result"
    }
   ],
   "source": [
    "dotenv.load_dotenv(\".env\")\n",
    "AUTH_TOKEN = os.getenv(\"AUTH_TOKEN\")\n",
    "client = HelixirQueryApi(auth_token=AUTH_TOKEN, api_version=\"v1\")\n",
    "client"
   ],
   "metadata": {
    "collapsed": false
   }
  },
  {
   "cell_type": "markdown",
   "source": [
    "# Getting upcoming events\n",
    "Filter events for listing of new tokens."
   ],
   "metadata": {
    "collapsed": false
   }
  },
  {
   "cell_type": "code",
   "execution_count": 6,
   "outputs": [
    {
     "data": {
      "text/plain": "Waiting for response till limit:   0%|          | 0/600 [00:00<?, ?it/s]",
      "application/vnd.jupyter.widget-view+json": {
       "version_major": 2,
       "version_minor": 0,
       "model_id": "c61bc68d69194c578acffb4a14751356"
      }
     },
     "metadata": {},
     "output_type": "display_data"
    },
    {
     "data": {
      "text/plain": "      asset             date_time event_type                          sources  \\\n0  SHIBLITE  2023-01-27T00:00:00Z    listing  {https://coinmarketcal.com/en/}   \n1       FCD  2023-01-27T00:00:00Z    listing  {https://coinmarketcal.com/en/}   \n2     DOGGO  2023-01-28T00:00:00Z    listing  {https://coinmarketcal.com/en/}   \n3        BT  2023-01-29T00:00:00Z    listing  {https://coinmarketcal.com/en/}   \n4       KRX  2023-01-30T00:00:00Z    listing  {https://coinmarketcal.com/en/}   \n\n                       title  \n0            BitMart Listing  \n1            Bybit Delisting  \n2            Gate.io Listing  \n3          LATOKEN Delisting  \n4  KRYZA Token Listing Start  ",
      "text/html": "<div>\n<style scoped>\n    .dataframe tbody tr th:only-of-type {\n        vertical-align: middle;\n    }\n\n    .dataframe tbody tr th {\n        vertical-align: top;\n    }\n\n    .dataframe thead th {\n        text-align: right;\n    }\n</style>\n<table border=\"1\" class=\"dataframe\">\n  <thead>\n    <tr style=\"text-align: right;\">\n      <th></th>\n      <th>asset</th>\n      <th>date_time</th>\n      <th>event_type</th>\n      <th>sources</th>\n      <th>title</th>\n    </tr>\n  </thead>\n  <tbody>\n    <tr>\n      <th>0</th>\n      <td>SHIBLITE</td>\n      <td>2023-01-27T00:00:00Z</td>\n      <td>listing</td>\n      <td>{https://coinmarketcal.com/en/}</td>\n      <td>BitMart Listing</td>\n    </tr>\n    <tr>\n      <th>1</th>\n      <td>FCD</td>\n      <td>2023-01-27T00:00:00Z</td>\n      <td>listing</td>\n      <td>{https://coinmarketcal.com/en/}</td>\n      <td>Bybit Delisting</td>\n    </tr>\n    <tr>\n      <th>2</th>\n      <td>DOGGO</td>\n      <td>2023-01-28T00:00:00Z</td>\n      <td>listing</td>\n      <td>{https://coinmarketcal.com/en/}</td>\n      <td>Gate.io Listing</td>\n    </tr>\n    <tr>\n      <th>3</th>\n      <td>BT</td>\n      <td>2023-01-29T00:00:00Z</td>\n      <td>listing</td>\n      <td>{https://coinmarketcal.com/en/}</td>\n      <td>LATOKEN Delisting</td>\n    </tr>\n    <tr>\n      <th>4</th>\n      <td>KRX</td>\n      <td>2023-01-30T00:00:00Z</td>\n      <td>listing</td>\n      <td>{https://coinmarketcal.com/en/}</td>\n      <td>KRYZA Token Listing Start</td>\n    </tr>\n  </tbody>\n</table>\n</div>"
     },
     "execution_count": 6,
     "metadata": {},
     "output_type": "execute_result"
    }
   ],
   "source": [
    "query = \"\"\"SELECT *\n",
    "FROM studies.helixir.events\n",
    "WHERE event_type = 'listing'\n",
    "  and date_time >= now()\n",
    "ORDER BY date_time\n",
    "limit 5;\"\"\"\n",
    "\n",
    "response1 = client.get_data_response(query)\n",
    "response1"
   ],
   "metadata": {
    "collapsed": false
   }
  },
  {
   "cell_type": "markdown",
   "source": [
    "All upcoming crypto events"
   ],
   "metadata": {
    "collapsed": false
   }
  },
  {
   "cell_type": "code",
   "execution_count": 7,
   "outputs": [
    {
     "data": {
      "text/plain": "Waiting for response till limit:   0%|          | 0/600 [00:00<?, ?it/s]",
      "application/vnd.jupyter.widget-view+json": {
       "version_major": 2,
       "version_minor": 0,
       "model_id": "85596708af664852843769580534897c"
      }
     },
     "metadata": {},
     "output_type": "display_data"
    },
    {
     "data": {
      "text/plain": "    asset             date_time event_type                          sources  \\\n0    HBAR  2023-01-26T00:00:00Z        ico  {https://coinmarketcal.com/en/}   \n1   SFUND  2023-01-26T00:00:00Z        ico  {https://coinmarketcal.com/en/}   \n2     LIT  2023-01-26T00:00:00Z      other  {https://coinmarketcal.com/en/}   \n3    XCAD  2023-01-26T00:00:00Z      other  {https://coinmarketcal.com/en/}   \n4     SKL  2023-01-26T00:00:00Z      other  {https://coinmarketcal.com/en/}   \n5      PI  2023-01-26T00:00:00Z      other  {https://coinmarketcal.com/en/}   \n6     XPR  2023-01-26T00:00:00Z      other  {https://coinmarketcal.com/en/}   \n7     TXL  2023-01-26T00:00:00Z      other  {https://coinmarketcal.com/en/}   \n8      AE  2023-01-26T00:00:00Z      other  {https://coinmarketcal.com/en/}   \n9    CARD  2023-01-26T00:00:00Z      other  {https://coinmarketcal.com/en/}   \n10    BZZ  2023-01-26T00:00:00Z      other  {https://coinmarketcal.com/en/}   \n11  WEMIX  2023-01-27T00:00:00Z        ico  {https://coinmarketcal.com/en/}   \n12   ZPRO  2023-01-27T00:00:00Z      other  {https://coinmarketcal.com/en/}   \n13    SXP  2023-01-27T00:00:00Z      other  {https://coinmarketcal.com/en/}   \n14   ASTR  2023-01-27T00:00:00Z      other  {https://coinmarketcal.com/en/}   \n\n                       title  \n0              Testnet Reset  \n1            Mounts NFT Sale  \n2             Twitter Spaces  \n3             CLO Start Date  \n4              Community AMA  \n5                        AMA  \n6                 Reddit AMA  \n7             Twitter Spaces  \n8   AMA with Core Developers  \n9        2023 Roadmap Update  \n10    Monthly Ecosystem Call  \n11  Fan Token Service Launch  \n12              Telegram AMA  \n13        Twitter Spaces AMA  \n14  AMA w/ Swanky & Brushfam  ",
      "text/html": "<div>\n<style scoped>\n    .dataframe tbody tr th:only-of-type {\n        vertical-align: middle;\n    }\n\n    .dataframe tbody tr th {\n        vertical-align: top;\n    }\n\n    .dataframe thead th {\n        text-align: right;\n    }\n</style>\n<table border=\"1\" class=\"dataframe\">\n  <thead>\n    <tr style=\"text-align: right;\">\n      <th></th>\n      <th>asset</th>\n      <th>date_time</th>\n      <th>event_type</th>\n      <th>sources</th>\n      <th>title</th>\n    </tr>\n  </thead>\n  <tbody>\n    <tr>\n      <th>0</th>\n      <td>HBAR</td>\n      <td>2023-01-26T00:00:00Z</td>\n      <td>ico</td>\n      <td>{https://coinmarketcal.com/en/}</td>\n      <td>Testnet Reset</td>\n    </tr>\n    <tr>\n      <th>1</th>\n      <td>SFUND</td>\n      <td>2023-01-26T00:00:00Z</td>\n      <td>ico</td>\n      <td>{https://coinmarketcal.com/en/}</td>\n      <td>Mounts NFT Sale</td>\n    </tr>\n    <tr>\n      <th>2</th>\n      <td>LIT</td>\n      <td>2023-01-26T00:00:00Z</td>\n      <td>other</td>\n      <td>{https://coinmarketcal.com/en/}</td>\n      <td>Twitter Spaces</td>\n    </tr>\n    <tr>\n      <th>3</th>\n      <td>XCAD</td>\n      <td>2023-01-26T00:00:00Z</td>\n      <td>other</td>\n      <td>{https://coinmarketcal.com/en/}</td>\n      <td>CLO Start Date</td>\n    </tr>\n    <tr>\n      <th>4</th>\n      <td>SKL</td>\n      <td>2023-01-26T00:00:00Z</td>\n      <td>other</td>\n      <td>{https://coinmarketcal.com/en/}</td>\n      <td>Community AMA</td>\n    </tr>\n    <tr>\n      <th>5</th>\n      <td>PI</td>\n      <td>2023-01-26T00:00:00Z</td>\n      <td>other</td>\n      <td>{https://coinmarketcal.com/en/}</td>\n      <td>AMA</td>\n    </tr>\n    <tr>\n      <th>6</th>\n      <td>XPR</td>\n      <td>2023-01-26T00:00:00Z</td>\n      <td>other</td>\n      <td>{https://coinmarketcal.com/en/}</td>\n      <td>Reddit AMA</td>\n    </tr>\n    <tr>\n      <th>7</th>\n      <td>TXL</td>\n      <td>2023-01-26T00:00:00Z</td>\n      <td>other</td>\n      <td>{https://coinmarketcal.com/en/}</td>\n      <td>Twitter Spaces</td>\n    </tr>\n    <tr>\n      <th>8</th>\n      <td>AE</td>\n      <td>2023-01-26T00:00:00Z</td>\n      <td>other</td>\n      <td>{https://coinmarketcal.com/en/}</td>\n      <td>AMA with Core Developers</td>\n    </tr>\n    <tr>\n      <th>9</th>\n      <td>CARD</td>\n      <td>2023-01-26T00:00:00Z</td>\n      <td>other</td>\n      <td>{https://coinmarketcal.com/en/}</td>\n      <td>2023 Roadmap Update</td>\n    </tr>\n    <tr>\n      <th>10</th>\n      <td>BZZ</td>\n      <td>2023-01-26T00:00:00Z</td>\n      <td>other</td>\n      <td>{https://coinmarketcal.com/en/}</td>\n      <td>Monthly Ecosystem Call</td>\n    </tr>\n    <tr>\n      <th>11</th>\n      <td>WEMIX</td>\n      <td>2023-01-27T00:00:00Z</td>\n      <td>ico</td>\n      <td>{https://coinmarketcal.com/en/}</td>\n      <td>Fan Token Service Launch</td>\n    </tr>\n    <tr>\n      <th>12</th>\n      <td>ZPRO</td>\n      <td>2023-01-27T00:00:00Z</td>\n      <td>other</td>\n      <td>{https://coinmarketcal.com/en/}</td>\n      <td>Telegram AMA</td>\n    </tr>\n    <tr>\n      <th>13</th>\n      <td>SXP</td>\n      <td>2023-01-27T00:00:00Z</td>\n      <td>other</td>\n      <td>{https://coinmarketcal.com/en/}</td>\n      <td>Twitter Spaces AMA</td>\n    </tr>\n    <tr>\n      <th>14</th>\n      <td>ASTR</td>\n      <td>2023-01-27T00:00:00Z</td>\n      <td>other</td>\n      <td>{https://coinmarketcal.com/en/}</td>\n      <td>AMA w/ Swanky &amp; Brushfam</td>\n    </tr>\n  </tbody>\n</table>\n</div>"
     },
     "execution_count": 7,
     "metadata": {},
     "output_type": "execute_result"
    }
   ],
   "source": [
    "query = \"\"\"SELECT *\n",
    "FROM studies.helixir.events\n",
    "WHERE date_time >= now()\n",
    "ORDER BY date_time\n",
    "limit 15;\"\"\"\n",
    "\n",
    "response2 = client.get_data_response(query)\n",
    "response2"
   ],
   "metadata": {
    "collapsed": false
   }
  },
  {
   "cell_type": "markdown",
   "source": [
    "# Example of historic event with price of token that has been listed"
   ],
   "metadata": {
    "collapsed": false
   }
  },
  {
   "cell_type": "code",
   "execution_count": 8,
   "outputs": [
    {
     "data": {
      "text/plain": "Waiting for response till limit:   0%|          | 0/600 [00:00<?, ?it/s]",
      "application/vnd.jupyter.widget-view+json": {
       "version_major": 2,
       "version_minor": 0,
       "model_id": "484b3069949a45febab703fa3b71d5b8"
      }
     },
     "metadata": {},
     "output_type": "display_data"
    },
    {
     "data": {
      "text/plain": "   asset                 date_time event_type  \\\n0  MAGIC 2023-01-17 00:00:00+00:00    listing   \n1    FET 2023-01-17 00:00:00+00:00    listing   \n2   KRRX 2023-01-17 00:00:00+00:00    listing   \n3    LDO 2023-01-17 00:00:00+00:00    listing   \n4   DYDX 2023-01-17 00:00:00+00:00    listing   \n\n                           sources                 title  \n0  {https://coinmarketcal.com/en/}        KuCoin Listing  \n1  {https://coinmarketcal.com/en/}        Bitrue Listing  \n2  {https://coinmarketcal.com/en/}  Huobi Global Listing  \n3  {https://coinmarketcal.com/en/}        XT.COM Listing  \n4  {https://coinmarketcal.com/en/}        XT.COM Listing  ",
      "text/html": "<div>\n<style scoped>\n    .dataframe tbody tr th:only-of-type {\n        vertical-align: middle;\n    }\n\n    .dataframe tbody tr th {\n        vertical-align: top;\n    }\n\n    .dataframe thead th {\n        text-align: right;\n    }\n</style>\n<table border=\"1\" class=\"dataframe\">\n  <thead>\n    <tr style=\"text-align: right;\">\n      <th></th>\n      <th>asset</th>\n      <th>date_time</th>\n      <th>event_type</th>\n      <th>sources</th>\n      <th>title</th>\n    </tr>\n  </thead>\n  <tbody>\n    <tr>\n      <th>0</th>\n      <td>MAGIC</td>\n      <td>2023-01-17 00:00:00+00:00</td>\n      <td>listing</td>\n      <td>{https://coinmarketcal.com/en/}</td>\n      <td>KuCoin Listing</td>\n    </tr>\n    <tr>\n      <th>1</th>\n      <td>FET</td>\n      <td>2023-01-17 00:00:00+00:00</td>\n      <td>listing</td>\n      <td>{https://coinmarketcal.com/en/}</td>\n      <td>Bitrue Listing</td>\n    </tr>\n    <tr>\n      <th>2</th>\n      <td>KRRX</td>\n      <td>2023-01-17 00:00:00+00:00</td>\n      <td>listing</td>\n      <td>{https://coinmarketcal.com/en/}</td>\n      <td>Huobi Global Listing</td>\n    </tr>\n    <tr>\n      <th>3</th>\n      <td>LDO</td>\n      <td>2023-01-17 00:00:00+00:00</td>\n      <td>listing</td>\n      <td>{https://coinmarketcal.com/en/}</td>\n      <td>XT.COM Listing</td>\n    </tr>\n    <tr>\n      <th>4</th>\n      <td>DYDX</td>\n      <td>2023-01-17 00:00:00+00:00</td>\n      <td>listing</td>\n      <td>{https://coinmarketcal.com/en/}</td>\n      <td>XT.COM Listing</td>\n    </tr>\n  </tbody>\n</table>\n</div>"
     },
     "execution_count": 8,
     "metadata": {},
     "output_type": "execute_result"
    }
   ],
   "source": [
    "query = \"\"\"SELECT *\n",
    "FROM studies.helixir.events\n",
    "WHERE event_type = 'listing'\n",
    "  and date_time <= now()\n",
    "ORDER BY date_time\n",
    "limit 5;\"\"\"\n",
    "\n",
    "response3 = client.get_data_response(query)\n",
    "response3['date_time'] = pd.to_datetime(response3['date_time'])\n",
    "response3"
   ],
   "metadata": {
    "collapsed": false
   }
  },
  {
   "cell_type": "markdown",
   "source": [
    "Get first event for example"
   ],
   "metadata": {
    "collapsed": false
   }
  },
  {
   "cell_type": "code",
   "execution_count": 9,
   "outputs": [],
   "source": [
    "import datetime\n",
    "\n",
    "asset = response3['asset'].iloc[0]\n",
    "start_date = response3['date_time'].iloc[0]\n",
    "end_date = start_date + datetime.timedelta(days=1)\n",
    "event = response3['title'].iloc[0]"
   ],
   "metadata": {
    "collapsed": false
   }
  },
  {
   "cell_type": "markdown",
   "source": [
    "Get tokens with obtained asset ordered by market capitalization and select one with the highest one (that one is probably the one in the listing)"
   ],
   "metadata": {
    "collapsed": false
   }
  },
  {
   "cell_type": "code",
   "execution_count": 10,
   "outputs": [
    {
     "data": {
      "text/plain": "Waiting for response till limit:   0%|          | 0/600 [00:00<?, ?it/s]",
      "application/vnd.jupyter.widget-view+json": {
       "version_major": 2,
       "version_minor": 0,
       "model_id": "b3916f2c43f14da897e327c012fe5ed4"
      }
     },
     "metadata": {},
     "output_type": "display_data"
    },
    {
     "data": {
      "text/plain": "                                     contract    id  \\\n0  0xB0c7a3Ba49C7a6EaBa6cD4a96C55a1391070Ac9A  1480   \n\n                       market_cap                        price_stable symbol  \n0  371794039.47017540000000000000  1.09465325436619645767541132362826  MAGIC  ",
      "text/html": "<div>\n<style scoped>\n    .dataframe tbody tr th:only-of-type {\n        vertical-align: middle;\n    }\n\n    .dataframe tbody tr th {\n        vertical-align: top;\n    }\n\n    .dataframe thead th {\n        text-align: right;\n    }\n</style>\n<table border=\"1\" class=\"dataframe\">\n  <thead>\n    <tr style=\"text-align: right;\">\n      <th></th>\n      <th>contract</th>\n      <th>id</th>\n      <th>market_cap</th>\n      <th>price_stable</th>\n      <th>symbol</th>\n    </tr>\n  </thead>\n  <tbody>\n    <tr>\n      <th>0</th>\n      <td>0xB0c7a3Ba49C7a6EaBa6cD4a96C55a1391070Ac9A</td>\n      <td>1480</td>\n      <td>371794039.47017540000000000000</td>\n      <td>1.09465325436619645767541132362826</td>\n      <td>MAGIC</td>\n    </tr>\n  </tbody>\n</table>\n</div>"
     },
     "execution_count": 10,
     "metadata": {},
     "output_type": "execute_result"
    }
   ],
   "source": [
    "query = \"\"\"SELECT mc.symbol, mc.price_stable, mc.market_cap, t.id, t.contract\n",
    "from exchange.eth.raw.market_capitalizations mc join exchange.eth.raw.tokens t on token_id = t.id\n",
    "where t.symbol = '{asset}' and t.active = true\n",
    "order by market_cap desc;\"\"\".format(asset=asset)\n",
    "\n",
    "response4 = client.get_data_response(query)\n",
    "response4"
   ],
   "metadata": {
    "collapsed": false
   }
  },
  {
   "cell_type": "code",
   "execution_count": 11,
   "outputs": [
    {
     "data": {
      "text/plain": "1480"
     },
     "execution_count": 11,
     "metadata": {},
     "output_type": "execute_result"
    }
   ],
   "source": [
    "token_id = response4['id'].iloc[0]\n",
    "token_id"
   ],
   "metadata": {
    "collapsed": false
   }
  },
  {
   "cell_type": "code",
   "execution_count": 12,
   "outputs": [
    {
     "data": {
      "text/plain": "Waiting for response till limit:   0%|          | 0/600 [00:00<?, ?it/s]",
      "application/vnd.jupyter.widget-view+json": {
       "version_major": 2,
       "version_minor": 0,
       "model_id": "7b20ec751c5a40d38518373667a5c9f6"
      }
     },
     "metadata": {},
     "output_type": "display_data"
    },
    {
     "data": {
      "text/plain": "     close_stable  high_stable  low_stable  open_stable  \\\n0        0.654297     0.773438    0.633419     0.773438   \n1        0.684442     0.727765    0.648281     0.690460   \n2        0.704956     0.710734    0.704956     0.710734   \n3        0.718234     0.777733    0.710358     0.771819   \n4        0.675618     0.675618    0.675618     0.675618   \n..            ...          ...         ...          ...   \n130      1.172469     1.172469    1.172469     1.172469   \n131      1.179534     1.179534    1.179534     1.179534   \n132      1.117708     1.211504    1.117708     1.211504   \n133      1.127829     1.127829    1.127829     1.127829   \n134      1.130304     1.130304    1.130304     1.130304   \n\n                         time                 volume  \n0   2023-01-15 02:00:00+00:00  7891.3206454721834077  \n1   2023-01-15 03:00:00+00:00  4361.6983868668536599  \n2   2023-01-15 06:00:00+00:00   526.8392009074191326  \n3   2023-01-15 07:00:00+00:00  5419.9922230331779620  \n4   2023-01-15 09:00:00+00:00                 772.19  \n..                        ...                    ...  \n130 2023-01-24 18:00:00+00:00    41.0470884389695947  \n131 2023-01-24 20:00:00+00:00    47.8711076763295878  \n132 2023-01-24 21:00:00+00:00  1490.0617388557426344  \n133 2023-01-24 22:00:00+00:00   105.1729564208951296  \n134 2023-01-24 23:00:00+00:00   318.0457745804215283  \n\n[135 rows x 6 columns]",
      "text/html": "<div>\n<style scoped>\n    .dataframe tbody tr th:only-of-type {\n        vertical-align: middle;\n    }\n\n    .dataframe tbody tr th {\n        vertical-align: top;\n    }\n\n    .dataframe thead th {\n        text-align: right;\n    }\n</style>\n<table border=\"1\" class=\"dataframe\">\n  <thead>\n    <tr style=\"text-align: right;\">\n      <th></th>\n      <th>close_stable</th>\n      <th>high_stable</th>\n      <th>low_stable</th>\n      <th>open_stable</th>\n      <th>time</th>\n      <th>volume</th>\n    </tr>\n  </thead>\n  <tbody>\n    <tr>\n      <th>0</th>\n      <td>0.654297</td>\n      <td>0.773438</td>\n      <td>0.633419</td>\n      <td>0.773438</td>\n      <td>2023-01-15 02:00:00+00:00</td>\n      <td>7891.3206454721834077</td>\n    </tr>\n    <tr>\n      <th>1</th>\n      <td>0.684442</td>\n      <td>0.727765</td>\n      <td>0.648281</td>\n      <td>0.690460</td>\n      <td>2023-01-15 03:00:00+00:00</td>\n      <td>4361.6983868668536599</td>\n    </tr>\n    <tr>\n      <th>2</th>\n      <td>0.704956</td>\n      <td>0.710734</td>\n      <td>0.704956</td>\n      <td>0.710734</td>\n      <td>2023-01-15 06:00:00+00:00</td>\n      <td>526.8392009074191326</td>\n    </tr>\n    <tr>\n      <th>3</th>\n      <td>0.718234</td>\n      <td>0.777733</td>\n      <td>0.710358</td>\n      <td>0.771819</td>\n      <td>2023-01-15 07:00:00+00:00</td>\n      <td>5419.9922230331779620</td>\n    </tr>\n    <tr>\n      <th>4</th>\n      <td>0.675618</td>\n      <td>0.675618</td>\n      <td>0.675618</td>\n      <td>0.675618</td>\n      <td>2023-01-15 09:00:00+00:00</td>\n      <td>772.19</td>\n    </tr>\n    <tr>\n      <th>...</th>\n      <td>...</td>\n      <td>...</td>\n      <td>...</td>\n      <td>...</td>\n      <td>...</td>\n      <td>...</td>\n    </tr>\n    <tr>\n      <th>130</th>\n      <td>1.172469</td>\n      <td>1.172469</td>\n      <td>1.172469</td>\n      <td>1.172469</td>\n      <td>2023-01-24 18:00:00+00:00</td>\n      <td>41.0470884389695947</td>\n    </tr>\n    <tr>\n      <th>131</th>\n      <td>1.179534</td>\n      <td>1.179534</td>\n      <td>1.179534</td>\n      <td>1.179534</td>\n      <td>2023-01-24 20:00:00+00:00</td>\n      <td>47.8711076763295878</td>\n    </tr>\n    <tr>\n      <th>132</th>\n      <td>1.117708</td>\n      <td>1.211504</td>\n      <td>1.117708</td>\n      <td>1.211504</td>\n      <td>2023-01-24 21:00:00+00:00</td>\n      <td>1490.0617388557426344</td>\n    </tr>\n    <tr>\n      <th>133</th>\n      <td>1.127829</td>\n      <td>1.127829</td>\n      <td>1.127829</td>\n      <td>1.127829</td>\n      <td>2023-01-24 22:00:00+00:00</td>\n      <td>105.1729564208951296</td>\n    </tr>\n    <tr>\n      <th>134</th>\n      <td>1.130304</td>\n      <td>1.130304</td>\n      <td>1.130304</td>\n      <td>1.130304</td>\n      <td>2023-01-24 23:00:00+00:00</td>\n      <td>318.0457745804215283</td>\n    </tr>\n  </tbody>\n</table>\n<p>135 rows × 6 columns</p>\n</div>"
     },
     "execution_count": 12,
     "metadata": {},
     "output_type": "execute_result"
    }
   ],
   "source": [
    "tohlcv_query = \"\"\"SELECT p.bucket as time, open_stable, high_stable, low_stable, close_stable, v.volume\n",
    "FROM series.chain_eth.price_ticks_hourly p\n",
    "         join series.chain_eth.volume_ticks_hourly v\n",
    "              on (p.bucket = v.bucket and p.token_id = v.token_id and p.platform_id = v.platform_id)\n",
    "WHERE p.token_id = {token_id}\n",
    "  and p.platform_id = 1\n",
    "  and p.bucket > timestamp '2023-01-15'\n",
    "  and p.bucket < timestamp '2023-01-25'\n",
    "ORDER BY time;\"\"\".format(token_id=token_id)\n",
    "\n",
    "tohlcv_resp = client.get_data_response(tohlcv_query)\n",
    "tohlcv_resp['time'] = pd.to_datetime(tohlcv_resp['time'])\n",
    "tohlcv_resp.set_index('time')\n",
    "tohlcv_resp['open_stable'] = pd.to_numeric(tohlcv_resp['open_stable'])\n",
    "tohlcv_resp['high_stable'] = pd.to_numeric(tohlcv_resp['high_stable'])\n",
    "tohlcv_resp['low_stable'] = pd.to_numeric(tohlcv_resp['low_stable'])\n",
    "tohlcv_resp['close_stable'] = pd.to_numeric(tohlcv_resp['close_stable'])\n",
    "tohlcv_resp"
   ],
   "metadata": {
    "collapsed": false
   }
  },
  {
   "cell_type": "code",
   "execution_count": 13,
   "outputs": [
    {
     "data": {
      "image/png": "[encoded data removed]"
     },
     "metadata": {},
     "output_type": "display_data"
    }
   ],
   "source": [
    "fig = make_subplots(specs=[[{\"secondary_y\": True}]])\n",
    "\n",
    "candlestick = go.Candlestick(\n",
    "    x=tohlcv_resp['time'],\n",
    "    open=tohlcv_resp['open_stable'],\n",
    "    high=tohlcv_resp['high_stable'],\n",
    "    low=tohlcv_resp['low_stable'],\n",
    "    close=tohlcv_resp['close_stable'],\n",
    "    name=\"Price\"\n",
    ")\n",
    "\n",
    "fig.add_trace(candlestick, secondary_y=True)\n",
    "fig.add_vrect(\n",
    "    x0=start_date, x1=end_date,\n",
    "    fillcolor='purple', opacity=0.2,\n",
    "    layer=\"below\", line_width=0, name=\"event\")\n",
    "fig.update_layout(\n",
    "    width=800, height=600,\n",
    "    title=\"Tohlc {asset}\".format(asset=asset),\n",
    "    xaxis_rangeslider_visible=False,\n",
    "    shapes=\n",
    "    [dict(type='line',\n",
    "          yref='paper', y0=0, y1=1,\n",
    "          x0=start_date, x1=start_date,\n",
    "          line=dict(color=\"MediumPurple\",\n",
    "                    width=3,\n",
    "                    dash=\"dot\")\n",
    "          )\n",
    "     ]\n",
    ")\n",
    "fig.add_annotation(\n",
    "    x=start_date\n",
    "    , text='{date} - {event}'.format(date=start_date.strftime(\"%Y-%m-%d\"), event=event)\n",
    "    , yanchor='bottom'\n",
    "    , showarrow=False\n",
    "    , arrowhead=1\n",
    "    , arrowsize=1\n",
    "    , arrowwidth=2\n",
    "    , arrowcolor=\"#636363\"\n",
    "    , ax=-20\n",
    "    , ay=-30\n",
    "    , font=dict(size=12, color=\"purple\", family=\"Sans Serif\")\n",
    "    , align=\"left\"\n",
    "    ,)\n",
    "\n",
    "# Set y-axes titles\n",
    "fig.update_yaxes(title_text=\"Price ($)\", secondary_y=True)\n",
    "\n",
    "fig.show(\"png\")"
   ],
   "metadata": {
    "collapsed": false
   }
  },
  {
   "cell_type": "code",
   "execution_count": 13,
   "outputs": [],
   "source": [],
   "metadata": {
    "collapsed": false
   }
  }
 ],
 "metadata": {
  "kernelspec": {
   "display_name": "Python 3",
   "language": "python",
   "name": "python3"
  },
  "language_info": {
   "codemirror_mode": {
    "name": "ipython",
    "version": 2
   },
   "file_extension": ".py",
   "mimetype": "text/x-python",
   "name": "python",
   "nbconvert_exporter": "python",
   "pygments_lexer": "ipython2",
   "version": "2.7.6"
  }
 },
 "nbformat": 4,
 "nbformat_minor": 0
}

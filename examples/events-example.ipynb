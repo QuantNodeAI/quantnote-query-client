{
 "cells": [
  {
   "cell_type": "markdown",
   "source": [
    "# Crypto Events Example"
   ],
   "metadata": {
    "collapsed": false
   }
  },
  {
   "cell_type": "code",
   "execution_count": 1,
   "outputs": [],
   "source": [
    "%reload_ext autoreload\n",
    "%autoreload 2"
   ],
   "metadata": {
    "collapsed": false
   }
  },
  {
   "cell_type": "code",
   "execution_count": 3,
   "outputs": [],
   "source": [
    "import os\n",
    "import sys\n",
    "import dotenv\n",
    "module_path = os.path.abspath(os.path.join('..'))\n",
    "if module_path not in sys.path:\n",
    "    sys.path.append(module_path)"
   ],
   "metadata": {
    "collapsed": false
   }
  },
  {
   "cell_type": "code",
   "execution_count": 4,
   "outputs": [],
   "source": [
    "from client.query_api_client import HelixirQueryApi"
   ],
   "metadata": {
    "collapsed": false
   }
  },
  {
   "cell_type": "markdown",
   "source": [
    "## Create api client"
   ],
   "metadata": {
    "collapsed": false
   }
  },
  {
   "cell_type": "code",
   "execution_count": 5,
   "outputs": [
    {
     "data": {
      "text/plain": "<client.query_api_client.HelixirQueryApi at 0x7f381c56f220>"
     },
     "execution_count": 5,
     "metadata": {},
     "output_type": "execute_result"
    }
   ],
   "source": [
    "dotenv.load_dotenv(\".env\")\n",
    "AUTH_TOKEN = os.getenv(\"AUTH_TOKEN\")\n",
    "client = HelixirQueryApi(auth_token=AUTH_TOKEN, api_server=\"http://167.235.251.238:3000\", api_version=\"dev\")\n",
    "client"
   ],
   "metadata": {
    "collapsed": false
   }
  },
  {
   "cell_type": "markdown",
   "source": [
    "# Getting upcoming events\n",
    "Filter events for listing of new tokens."
   ],
   "metadata": {
    "collapsed": false
   }
  },
  {
   "cell_type": "code",
   "execution_count": 6,
   "outputs": [
    {
     "data": {
      "text/plain": "Waiting for response till limit:   0%|          | 0/600 [00:00<?, ?it/s]",
      "application/vnd.jupyter.widget-view+json": {
       "version_major": 2,
       "version_minor": 0,
       "model_id": "09b90afd53bf48c39dae1747a14c3707"
      }
     },
     "metadata": {},
     "output_type": "display_data"
    },
    {
     "data": {
      "text/plain": "      asset             date_time event_type                          sources  \\\n0  SHIBLITE  2023-01-27T00:00:00Z    listing  {https://coinmarketcal.com/en/}   \n1     DOGGO  2023-01-28T00:00:00Z    listing  {https://coinmarketcal.com/en/}   \n2        BT  2023-01-29T00:00:00Z    listing  {https://coinmarketcal.com/en/}   \n3       KRX  2023-01-30T00:00:00Z    listing  {https://coinmarketcal.com/en/}   \n4       KRN  2023-01-30T00:00:00Z    listing  {https://coinmarketcal.com/en/}   \n\n                       title  \n0            BitMart Listing  \n1            Gate.io Listing  \n2          LATOKEN Delisting  \n3  KRYZA Token Listing Start  \n4  KRYZA Token Listing Start  ",
      "text/html": "<div>\n<style scoped>\n    .dataframe tbody tr th:only-of-type {\n        vertical-align: middle;\n    }\n\n    .dataframe tbody tr th {\n        vertical-align: top;\n    }\n\n    .dataframe thead th {\n        text-align: right;\n    }\n</style>\n<table border=\"1\" class=\"dataframe\">\n  <thead>\n    <tr style=\"text-align: right;\">\n      <th></th>\n      <th>asset</th>\n      <th>date_time</th>\n      <th>event_type</th>\n      <th>sources</th>\n      <th>title</th>\n    </tr>\n  </thead>\n  <tbody>\n    <tr>\n      <th>0</th>\n      <td>SHIBLITE</td>\n      <td>2023-01-27T00:00:00Z</td>\n      <td>listing</td>\n      <td>{https://coinmarketcal.com/en/}</td>\n      <td>BitMart Listing</td>\n    </tr>\n    <tr>\n      <th>1</th>\n      <td>DOGGO</td>\n      <td>2023-01-28T00:00:00Z</td>\n      <td>listing</td>\n      <td>{https://coinmarketcal.com/en/}</td>\n      <td>Gate.io Listing</td>\n    </tr>\n    <tr>\n      <th>2</th>\n      <td>BT</td>\n      <td>2023-01-29T00:00:00Z</td>\n      <td>listing</td>\n      <td>{https://coinmarketcal.com/en/}</td>\n      <td>LATOKEN Delisting</td>\n    </tr>\n    <tr>\n      <th>3</th>\n      <td>KRX</td>\n      <td>2023-01-30T00:00:00Z</td>\n      <td>listing</td>\n      <td>{https://coinmarketcal.com/en/}</td>\n      <td>KRYZA Token Listing Start</td>\n    </tr>\n    <tr>\n      <th>4</th>\n      <td>KRN</td>\n      <td>2023-01-30T00:00:00Z</td>\n      <td>listing</td>\n      <td>{https://coinmarketcal.com/en/}</td>\n      <td>KRYZA Token Listing Start</td>\n    </tr>\n  </tbody>\n</table>\n</div>"
     },
     "execution_count": 6,
     "metadata": {},
     "output_type": "execute_result"
    }
   ],
   "source": [
    "query = \"\"\"SELECT *\n",
    "FROM studies.helixir.events\n",
    "WHERE event_type = 'listing'\n",
    "  and date_time >= now()\n",
    "ORDER BY date_time\n",
    "limit 5;\"\"\"\n",
    "\n",
    "response = client.get_data_response(query)\n",
    "response"
   ],
   "metadata": {
    "collapsed": false
   }
  },
  {
   "cell_type": "markdown",
   "source": [
    "All upcoming crypto events"
   ],
   "metadata": {
    "collapsed": false
   }
  },
  {
   "cell_type": "code",
   "execution_count": 7,
   "outputs": [
    {
     "data": {
      "text/plain": "Waiting for response till limit:   0%|          | 0/600 [00:00<?, ?it/s]",
      "application/vnd.jupyter.widget-view+json": {
       "version_major": 2,
       "version_minor": 0,
       "model_id": "1018b4378c8d4486b0006b2e1f5b035b"
      }
     },
     "metadata": {},
     "output_type": "display_data"
    },
    {
     "data": {
      "text/plain": "       asset             date_time event_type  \\\n0       HBAR  2023-01-26T00:00:00Z        ico   \n1      SFUND  2023-01-26T00:00:00Z        ico   \n2        LIT  2023-01-26T00:00:00Z      other   \n3       XCAD  2023-01-26T00:00:00Z      other   \n4        SKL  2023-01-26T00:00:00Z      other   \n5         PI  2023-01-26T00:00:00Z      other   \n6        XPR  2023-01-26T00:00:00Z      other   \n7        TXL  2023-01-26T00:00:00Z      other   \n8      WEMIX  2023-01-27T00:00:00Z        ico   \n9       ZPRO  2023-01-27T00:00:00Z      other   \n10       SXP  2023-01-27T00:00:00Z      other   \n11      ASTR  2023-01-27T00:00:00Z      other   \n12  SHIBLITE  2023-01-27T00:00:00Z    listing   \n13     DOGGO  2023-01-28T00:00:00Z    listing   \n14      SKUY  2023-01-28T00:00:00Z      other   \n\n                            sources                     title  \n0   {https://coinmarketcal.com/en/}             Testnet Reset  \n1   {https://coinmarketcal.com/en/}           Mounts NFT Sale  \n2   {https://coinmarketcal.com/en/}            Twitter Spaces  \n3   {https://coinmarketcal.com/en/}            CLO Start Date  \n4   {https://coinmarketcal.com/en/}             Community AMA  \n5   {https://coinmarketcal.com/en/}                       AMA  \n6   {https://coinmarketcal.com/en/}                Reddit AMA  \n7   {https://coinmarketcal.com/en/}            Twitter Spaces  \n8   {https://coinmarketcal.com/en/}  Fan Token Service Launch  \n9   {https://coinmarketcal.com/en/}              Telegram AMA  \n10  {https://coinmarketcal.com/en/}        Twitter Spaces AMA  \n11  {https://coinmarketcal.com/en/}  AMA w/ Swanky & Brushfam  \n12  {https://coinmarketcal.com/en/}           BitMart Listing  \n13  {https://coinmarketcal.com/en/}           Gate.io Listing  \n14  {https://coinmarketcal.com/en/}     AMA w/ Sarjana Crypto  ",
      "text/html": "<div>\n<style scoped>\n    .dataframe tbody tr th:only-of-type {\n        vertical-align: middle;\n    }\n\n    .dataframe tbody tr th {\n        vertical-align: top;\n    }\n\n    .dataframe thead th {\n        text-align: right;\n    }\n</style>\n<table border=\"1\" class=\"dataframe\">\n  <thead>\n    <tr style=\"text-align: right;\">\n      <th></th>\n      <th>asset</th>\n      <th>date_time</th>\n      <th>event_type</th>\n      <th>sources</th>\n      <th>title</th>\n    </tr>\n  </thead>\n  <tbody>\n    <tr>\n      <th>0</th>\n      <td>HBAR</td>\n      <td>2023-01-26T00:00:00Z</td>\n      <td>ico</td>\n      <td>{https://coinmarketcal.com/en/}</td>\n      <td>Testnet Reset</td>\n    </tr>\n    <tr>\n      <th>1</th>\n      <td>SFUND</td>\n      <td>2023-01-26T00:00:00Z</td>\n      <td>ico</td>\n      <td>{https://coinmarketcal.com/en/}</td>\n      <td>Mounts NFT Sale</td>\n    </tr>\n    <tr>\n      <th>2</th>\n      <td>LIT</td>\n      <td>2023-01-26T00:00:00Z</td>\n      <td>other</td>\n      <td>{https://coinmarketcal.com/en/}</td>\n      <td>Twitter Spaces</td>\n    </tr>\n    <tr>\n      <th>3</th>\n      <td>XCAD</td>\n      <td>2023-01-26T00:00:00Z</td>\n      <td>other</td>\n      <td>{https://coinmarketcal.com/en/}</td>\n      <td>CLO Start Date</td>\n    </tr>\n    <tr>\n      <th>4</th>\n      <td>SKL</td>\n      <td>2023-01-26T00:00:00Z</td>\n      <td>other</td>\n      <td>{https://coinmarketcal.com/en/}</td>\n      <td>Community AMA</td>\n    </tr>\n    <tr>\n      <th>5</th>\n      <td>PI</td>\n      <td>2023-01-26T00:00:00Z</td>\n      <td>other</td>\n      <td>{https://coinmarketcal.com/en/}</td>\n      <td>AMA</td>\n    </tr>\n    <tr>\n      <th>6</th>\n      <td>XPR</td>\n      <td>2023-01-26T00:00:00Z</td>\n      <td>other</td>\n      <td>{https://coinmarketcal.com/en/}</td>\n      <td>Reddit AMA</td>\n    </tr>\n    <tr>\n      <th>7</th>\n      <td>TXL</td>\n      <td>2023-01-26T00:00:00Z</td>\n      <td>other</td>\n      <td>{https://coinmarketcal.com/en/}</td>\n      <td>Twitter Spaces</td>\n    </tr>\n    <tr>\n      <th>8</th>\n      <td>WEMIX</td>\n      <td>2023-01-27T00:00:00Z</td>\n      <td>ico</td>\n      <td>{https://coinmarketcal.com/en/}</td>\n      <td>Fan Token Service Launch</td>\n    </tr>\n    <tr>\n      <th>9</th>\n      <td>ZPRO</td>\n      <td>2023-01-27T00:00:00Z</td>\n      <td>other</td>\n      <td>{https://coinmarketcal.com/en/}</td>\n      <td>Telegram AMA</td>\n    </tr>\n    <tr>\n      <th>10</th>\n      <td>SXP</td>\n      <td>2023-01-27T00:00:00Z</td>\n      <td>other</td>\n      <td>{https://coinmarketcal.com/en/}</td>\n      <td>Twitter Spaces AMA</td>\n    </tr>\n    <tr>\n      <th>11</th>\n      <td>ASTR</td>\n      <td>2023-01-27T00:00:00Z</td>\n      <td>other</td>\n      <td>{https://coinmarketcal.com/en/}</td>\n      <td>AMA w/ Swanky &amp; Brushfam</td>\n    </tr>\n    <tr>\n      <th>12</th>\n      <td>SHIBLITE</td>\n      <td>2023-01-27T00:00:00Z</td>\n      <td>listing</td>\n      <td>{https://coinmarketcal.com/en/}</td>\n      <td>BitMart Listing</td>\n    </tr>\n    <tr>\n      <th>13</th>\n      <td>DOGGO</td>\n      <td>2023-01-28T00:00:00Z</td>\n      <td>listing</td>\n      <td>{https://coinmarketcal.com/en/}</td>\n      <td>Gate.io Listing</td>\n    </tr>\n    <tr>\n      <th>14</th>\n      <td>SKUY</td>\n      <td>2023-01-28T00:00:00Z</td>\n      <td>other</td>\n      <td>{https://coinmarketcal.com/en/}</td>\n      <td>AMA w/ Sarjana Crypto</td>\n    </tr>\n  </tbody>\n</table>\n</div>"
     },
     "execution_count": 7,
     "metadata": {},
     "output_type": "execute_result"
    }
   ],
   "source": [
    "query = \"\"\"SELECT *\n",
    "FROM studies.helixir.events\n",
    "WHERE date_time >= now()\n",
    "ORDER BY date_time\n",
    "limit 15;\"\"\"\n",
    "\n",
    "response = client.get_data_response(query)\n",
    "response"
   ],
   "metadata": {
    "collapsed": false
   }
  },
  {
   "cell_type": "code",
   "execution_count": null,
   "outputs": [],
   "source": [],
   "metadata": {
    "collapsed": false
   }
  }
 ],
 "metadata": {
  "kernelspec": {
   "display_name": "Python 3",
   "language": "python",
   "name": "python3"
  },
  "language_info": {
   "codemirror_mode": {
    "name": "ipython",
    "version": 2
   },
   "file_extension": ".py",
   "mimetype": "text/x-python",
   "name": "python",
   "nbconvert_exporter": "python",
   "pygments_lexer": "ipython2",
   "version": "2.7.6"
  }
 },
 "nbformat": 4,
 "nbformat_minor": 0
}

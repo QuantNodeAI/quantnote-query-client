{
 "cells": [
  {
   "cell_type": "markdown",
   "source": [
    "# Crypto Events Example"
   ],
   "metadata": {
    "collapsed": false
   }
  },
  {
   "cell_type": "code",
   "execution_count": 7,
   "outputs": [],
   "source": [
    "%reload_ext autoreload\n",
    "%autoreload 2"
   ],
   "metadata": {
    "collapsed": false
   }
  },
  {
   "cell_type": "code",
   "execution_count": 10,
   "outputs": [],
   "source": [
    "import os\n",
    "import sys\n",
    "import dotenv\n",
    "module_path = os.path.abspath(os.path.join('..'))\n",
    "if module_path not in sys.path:\n",
    "    sys.path.append(module_path)"
   ],
   "metadata": {
    "collapsed": false
   }
  },
  {
   "cell_type": "code",
   "execution_count": 9,
   "outputs": [],
   "source": [
    "from client.query_api_client import HelixirQueryApi"
   ],
   "metadata": {
    "collapsed": false
   }
  },
  {
   "cell_type": "markdown",
   "source": [
    "## Create api client"
   ],
   "metadata": {
    "collapsed": false
   }
  },
  {
   "cell_type": "code",
   "execution_count": 30,
   "outputs": [
    {
     "data": {
      "text/plain": "<client.query_api_client.HelixirQueryApi at 0x7f623a5487c0>"
     },
     "execution_count": 30,
     "metadata": {},
     "output_type": "execute_result"
    }
   ],
   "source": [
    "dotenv.load_dotenv(\".env\")\n",
    "AUTH_TOKEN = os.getenv(\"AUTH_TOKEN\")\n",
    "client = HelixirQueryApi(auth_token=AUTH_TOKEN, api_server=\"http://167.235.251.238:3000\", api_version=\"dev\")\n",
    "client"
   ],
   "metadata": {
    "collapsed": false
   }
  },
  {
   "cell_type": "markdown",
   "source": [
    "# Getting upcoming events\n",
    "Filter events for listing of new tokens."
   ],
   "metadata": {
    "collapsed": false
   }
  },
  {
   "cell_type": "code",
   "execution_count": 31,
   "outputs": [
    {
     "data": {
      "text/plain": "   asset             date_time event_type                          sources  \\\n0    KXA  2023-01-25T00:00:00Z    listing  {https://coinmarketcal.com/en/}   \n1  DOGGO  2023-01-28T00:00:00Z    listing  {https://coinmarketcal.com/en/}   \n2     BT  2023-01-29T00:00:00Z    listing  {https://coinmarketcal.com/en/}   \n3    KRX  2023-01-30T00:00:00Z    listing  {https://coinmarketcal.com/en/}   \n4    KRN  2023-01-30T00:00:00Z    listing  {https://coinmarketcal.com/en/}   \n\n                       title  \n0            BitMart Listing  \n1            Gate.io Listing  \n2          LATOKEN Delisting  \n3  KRYZA Token Listing Start  \n4  KRYZA Token Listing Start  ",
      "text/html": "<div>\n<style scoped>\n    .dataframe tbody tr th:only-of-type {\n        vertical-align: middle;\n    }\n\n    .dataframe tbody tr th {\n        vertical-align: top;\n    }\n\n    .dataframe thead th {\n        text-align: right;\n    }\n</style>\n<table border=\"1\" class=\"dataframe\">\n  <thead>\n    <tr style=\"text-align: right;\">\n      <th></th>\n      <th>asset</th>\n      <th>date_time</th>\n      <th>event_type</th>\n      <th>sources</th>\n      <th>title</th>\n    </tr>\n  </thead>\n  <tbody>\n    <tr>\n      <th>0</th>\n      <td>KXA</td>\n      <td>2023-01-25T00:00:00Z</td>\n      <td>listing</td>\n      <td>{https://coinmarketcal.com/en/}</td>\n      <td>BitMart Listing</td>\n    </tr>\n    <tr>\n      <th>1</th>\n      <td>DOGGO</td>\n      <td>2023-01-28T00:00:00Z</td>\n      <td>listing</td>\n      <td>{https://coinmarketcal.com/en/}</td>\n      <td>Gate.io Listing</td>\n    </tr>\n    <tr>\n      <th>2</th>\n      <td>BT</td>\n      <td>2023-01-29T00:00:00Z</td>\n      <td>listing</td>\n      <td>{https://coinmarketcal.com/en/}</td>\n      <td>LATOKEN Delisting</td>\n    </tr>\n    <tr>\n      <th>3</th>\n      <td>KRX</td>\n      <td>2023-01-30T00:00:00Z</td>\n      <td>listing</td>\n      <td>{https://coinmarketcal.com/en/}</td>\n      <td>KRYZA Token Listing Start</td>\n    </tr>\n    <tr>\n      <th>4</th>\n      <td>KRN</td>\n      <td>2023-01-30T00:00:00Z</td>\n      <td>listing</td>\n      <td>{https://coinmarketcal.com/en/}</td>\n      <td>KRYZA Token Listing Start</td>\n    </tr>\n  </tbody>\n</table>\n</div>"
     },
     "execution_count": 31,
     "metadata": {},
     "output_type": "execute_result"
    }
   ],
   "source": [
    "query = \"\"\"SELECT *\n",
    "FROM studies.helixir.events\n",
    "WHERE event_type = 'listing'\n",
    "  and date_time >= now()\n",
    "ORDER BY date_time\n",
    "limit 5;\"\"\"\n",
    "\n",
    "response = client.get_data_response(query)\n",
    "response"
   ],
   "metadata": {
    "collapsed": false
   }
  },
  {
   "cell_type": "markdown",
   "source": [
    "All upcoming crypto events"
   ],
   "metadata": {
    "collapsed": false
   }
  },
  {
   "cell_type": "code",
   "execution_count": 33,
   "outputs": [
    {
     "data": {
      "text/plain": "    asset             date_time event_type                          sources  \\\n0    KAVA  2023-01-25T00:00:00Z        ico  {https://coinmarketcal.com/en/}   \n1    IPOR  2023-01-25T00:00:00Z      other  {https://coinmarketcal.com/en/}   \n2    BAND  2023-01-25T00:00:00Z      other  {https://coinmarketcal.com/en/}   \n3     DSM  2023-01-25T00:00:00Z      other  {https://coinmarketcal.com/en/}   \n4     XCH  2023-01-25T00:00:00Z      other  {https://coinmarketcal.com/en/}   \n5     KAS  2023-01-25T00:00:00Z      other  {https://coinmarketcal.com/en/}   \n6     KXA  2023-01-25T00:00:00Z    listing  {https://coinmarketcal.com/en/}   \n7   BEPRO  2023-01-25T00:00:00Z      other  {https://coinmarketcal.com/en/}   \n8    GLMR  2023-01-25T00:00:00Z      other  {https://coinmarketcal.com/en/}   \n9    HBAR  2023-01-26T00:00:00Z        ico  {https://coinmarketcal.com/en/}   \n10  SFUND  2023-01-26T00:00:00Z        ico  {https://coinmarketcal.com/en/}   \n11    LIT  2023-01-26T00:00:00Z      other  {https://coinmarketcal.com/en/}   \n12   XCAD  2023-01-26T00:00:00Z      other  {https://coinmarketcal.com/en/}   \n13    SKL  2023-01-26T00:00:00Z      other  {https://coinmarketcal.com/en/}   \n14     PI  2023-01-26T00:00:00Z      other  {https://coinmarketcal.com/en/}   \n\n                      title  \n0                K12 Launch  \n1   Liquidity Mining Launch  \n2        Twitter Spaces AMA  \n3        Twitter Spaces AMA  \n4                       AMA  \n5                       AMA  \n6           BitMart Listing  \n7            Twitter Spaces  \n8            Twitter Spaces  \n9             Testnet Reset  \n10          Mounts NFT Sale  \n11           Twitter Spaces  \n12           CLO Start Date  \n13            Community AMA  \n14                      AMA  ",
      "text/html": "<div>\n<style scoped>\n    .dataframe tbody tr th:only-of-type {\n        vertical-align: middle;\n    }\n\n    .dataframe tbody tr th {\n        vertical-align: top;\n    }\n\n    .dataframe thead th {\n        text-align: right;\n    }\n</style>\n<table border=\"1\" class=\"dataframe\">\n  <thead>\n    <tr style=\"text-align: right;\">\n      <th></th>\n      <th>asset</th>\n      <th>date_time</th>\n      <th>event_type</th>\n      <th>sources</th>\n      <th>title</th>\n    </tr>\n  </thead>\n  <tbody>\n    <tr>\n      <th>0</th>\n      <td>KAVA</td>\n      <td>2023-01-25T00:00:00Z</td>\n      <td>ico</td>\n      <td>{https://coinmarketcal.com/en/}</td>\n      <td>K12 Launch</td>\n    </tr>\n    <tr>\n      <th>1</th>\n      <td>IPOR</td>\n      <td>2023-01-25T00:00:00Z</td>\n      <td>other</td>\n      <td>{https://coinmarketcal.com/en/}</td>\n      <td>Liquidity Mining Launch</td>\n    </tr>\n    <tr>\n      <th>2</th>\n      <td>BAND</td>\n      <td>2023-01-25T00:00:00Z</td>\n      <td>other</td>\n      <td>{https://coinmarketcal.com/en/}</td>\n      <td>Twitter Spaces AMA</td>\n    </tr>\n    <tr>\n      <th>3</th>\n      <td>DSM</td>\n      <td>2023-01-25T00:00:00Z</td>\n      <td>other</td>\n      <td>{https://coinmarketcal.com/en/}</td>\n      <td>Twitter Spaces AMA</td>\n    </tr>\n    <tr>\n      <th>4</th>\n      <td>XCH</td>\n      <td>2023-01-25T00:00:00Z</td>\n      <td>other</td>\n      <td>{https://coinmarketcal.com/en/}</td>\n      <td>AMA</td>\n    </tr>\n    <tr>\n      <th>5</th>\n      <td>KAS</td>\n      <td>2023-01-25T00:00:00Z</td>\n      <td>other</td>\n      <td>{https://coinmarketcal.com/en/}</td>\n      <td>AMA</td>\n    </tr>\n    <tr>\n      <th>6</th>\n      <td>KXA</td>\n      <td>2023-01-25T00:00:00Z</td>\n      <td>listing</td>\n      <td>{https://coinmarketcal.com/en/}</td>\n      <td>BitMart Listing</td>\n    </tr>\n    <tr>\n      <th>7</th>\n      <td>BEPRO</td>\n      <td>2023-01-25T00:00:00Z</td>\n      <td>other</td>\n      <td>{https://coinmarketcal.com/en/}</td>\n      <td>Twitter Spaces</td>\n    </tr>\n    <tr>\n      <th>8</th>\n      <td>GLMR</td>\n      <td>2023-01-25T00:00:00Z</td>\n      <td>other</td>\n      <td>{https://coinmarketcal.com/en/}</td>\n      <td>Twitter Spaces</td>\n    </tr>\n    <tr>\n      <th>9</th>\n      <td>HBAR</td>\n      <td>2023-01-26T00:00:00Z</td>\n      <td>ico</td>\n      <td>{https://coinmarketcal.com/en/}</td>\n      <td>Testnet Reset</td>\n    </tr>\n    <tr>\n      <th>10</th>\n      <td>SFUND</td>\n      <td>2023-01-26T00:00:00Z</td>\n      <td>ico</td>\n      <td>{https://coinmarketcal.com/en/}</td>\n      <td>Mounts NFT Sale</td>\n    </tr>\n    <tr>\n      <th>11</th>\n      <td>LIT</td>\n      <td>2023-01-26T00:00:00Z</td>\n      <td>other</td>\n      <td>{https://coinmarketcal.com/en/}</td>\n      <td>Twitter Spaces</td>\n    </tr>\n    <tr>\n      <th>12</th>\n      <td>XCAD</td>\n      <td>2023-01-26T00:00:00Z</td>\n      <td>other</td>\n      <td>{https://coinmarketcal.com/en/}</td>\n      <td>CLO Start Date</td>\n    </tr>\n    <tr>\n      <th>13</th>\n      <td>SKL</td>\n      <td>2023-01-26T00:00:00Z</td>\n      <td>other</td>\n      <td>{https://coinmarketcal.com/en/}</td>\n      <td>Community AMA</td>\n    </tr>\n    <tr>\n      <th>14</th>\n      <td>PI</td>\n      <td>2023-01-26T00:00:00Z</td>\n      <td>other</td>\n      <td>{https://coinmarketcal.com/en/}</td>\n      <td>AMA</td>\n    </tr>\n  </tbody>\n</table>\n</div>"
     },
     "execution_count": 33,
     "metadata": {},
     "output_type": "execute_result"
    }
   ],
   "source": [
    "query = \"\"\"SELECT *\n",
    "FROM studies.helixir.events\n",
    "WHERE date_time >= now()\n",
    "ORDER BY date_time\n",
    "limit 15;\"\"\"\n",
    "\n",
    "response = client.get_data_response(query)\n",
    "response"
   ],
   "metadata": {
    "collapsed": false
   }
  }
 ],
 "metadata": {
  "kernelspec": {
   "display_name": "Python 3",
   "language": "python",
   "name": "python3"
  },
  "language_info": {
   "codemirror_mode": {
    "name": "ipython",
    "version": 2
   },
   "file_extension": ".py",
   "mimetype": "text/x-python",
   "name": "python",
   "nbconvert_exporter": "python",
   "pygments_lexer": "ipython2",
   "version": "2.7.6"
  }
 },
 "nbformat": 4,
 "nbformat_minor": 0
}

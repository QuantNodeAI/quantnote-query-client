{
 "cells": [
  {
   "cell_type": "markdown",
   "metadata": {},
   "source": [
    "# LINK Info Dashboard"
   ]
  },
  {
   "cell_type": "code",
   "execution_count": 12,
   "metadata": {
    "collapsed": true
   },
   "outputs": [],
   "source": [
    "import os\n",
    "import sys\n",
    "\n",
    "import dotenv\n",
    "import pandas as pd\n",
    "import plotly.graph_objects as go\n",
    "from plotly.subplots import make_subplots"
   ]
  },
  {
   "cell_type": "code",
   "execution_count": 13,
   "metadata": {},
   "outputs": [],
   "source": [
    "module_path = os.path.abspath(os.path.join('..'))\n",
    "if module_path not in sys.path:\n",
    "    sys.path.append(module_path)\n",
    "from client.query_api_client import HelixirQueryApi"
   ]
  },
  {
   "cell_type": "markdown",
   "metadata": {},
   "source": [
    "## Create Query Api Client\n"
   ]
  },
  {
   "cell_type": "code",
   "execution_count": 14,
   "metadata": {},
   "outputs": [
    {
     "data": {
      "text/plain": [
       "<client.query_api_client.HelixirQueryApi at 0x7f4180d12e30>"
      ]
     },
     "execution_count": 14,
     "metadata": {},
     "output_type": "execute_result"
    }
   ],
   "source": [
    "dotenv.load_dotenv(\".env\")\n",
    "AUTH_TOKEN = os.getenv(\"AUTH_TOKEN\")\n",
    "client = HelixirQueryApi(auth_token=AUTH_TOKEN, api_version=\"v1\")\n",
    "client"
   ]
  },
  {
   "cell_type": "markdown",
   "metadata": {},
   "source": [
    "## Get LINK Token by its Contract"
   ]
  },
  {
   "cell_type": "code",
   "execution_count": 15,
   "metadata": {},
   "outputs": [
    {
     "data": {
      "application/vnd.jupyter.widget-view+json": {
       "model_id": "7ea44ea77c454843bb3694f089a6a28d",
       "version_major": 2,
       "version_minor": 0
      },
      "text/plain": [
       "Waiting for response till limit:   0%|          | 0/600 [00:00<?, ?it/s]"
      ]
     },
     "metadata": {},
     "output_type": "display_data"
    },
    {
     "data": {
      "text/html": [
       "<div>\n",
       "<style scoped>\n",
       "    .dataframe tbody tr th:only-of-type {\n",
       "        vertical-align: middle;\n",
       "    }\n",
       "\n",
       "    .dataframe tbody tr th {\n",
       "        vertical-align: top;\n",
       "    }\n",
       "\n",
       "    .dataframe thead th {\n",
       "        text-align: right;\n",
       "    }\n",
       "</style>\n",
       "<table border=\"1\" class=\"dataframe\">\n",
       "  <thead>\n",
       "    <tr style=\"text-align: right;\">\n",
       "      <th></th>\n",
       "      <th>active</th>\n",
       "      <th>burned</th>\n",
       "      <th>chain_id</th>\n",
       "      <th>contract</th>\n",
       "      <th>decimals</th>\n",
       "      <th>id</th>\n",
       "      <th>name</th>\n",
       "      <th>symbol</th>\n",
       "      <th>total_supply</th>\n",
       "    </tr>\n",
       "  </thead>\n",
       "  <tbody>\n",
       "    <tr>\n",
       "      <th>0</th>\n",
       "      <td>True</td>\n",
       "      <td>6.1372085021389963</td>\n",
       "      <td>1</td>\n",
       "      <td>0x514910771AF9Ca656af840dff83E8264EcF986CA</td>\n",
       "      <td>18</td>\n",
       "      <td>7</td>\n",
       "      <td>ChainLink Token</td>\n",
       "      <td>LINK</td>\n",
       "      <td>1000000000</td>\n",
       "    </tr>\n",
       "  </tbody>\n",
       "</table>\n",
       "</div>"
      ],
      "text/plain": [
       "   active              burned  chain_id  \\\n",
       "0    True  6.1372085021389963         1   \n",
       "\n",
       "                                     contract decimals  id             name  \\\n",
       "0  0x514910771AF9Ca656af840dff83E8264EcF986CA       18   7  ChainLink Token   \n",
       "\n",
       "  symbol total_supply  \n",
       "0   LINK   1000000000  "
      ]
     },
     "execution_count": 15,
     "metadata": {},
     "output_type": "execute_result"
    }
   ],
   "source": [
    "token_contract = '0x514910771AF9Ca656af840dff83E8264EcF986CA'\n",
    "token_query = \"\"\"SELECT *\n",
    "    FROM exchange.eth.raw.tokens\n",
    "    WHERE contract = '{contract}';\"\"\".format(contract=token_contract)\n",
    "\n",
    "token = client.get_data_response(token_query)\n",
    "token"
   ]
  },
  {
   "cell_type": "markdown",
   "metadata": {},
   "source": [
    "## Get Number of Swaps for LINK"
   ]
  },
  {
   "cell_type": "code",
   "execution_count": 16,
   "metadata": {},
   "outputs": [
    {
     "data": {
      "application/vnd.jupyter.widget-view+json": {
       "model_id": "fcc85cecb0dd45ee82ee2a43811526a0",
       "version_major": 2,
       "version_minor": 0
      },
      "text/plain": [
       "Waiting for response till limit:   0%|          | 0/600 [00:00<?, ?it/s]"
      ]
     },
     "metadata": {},
     "output_type": "display_data"
    },
    {
     "data": {
      "text/html": [
       "<div>\n",
       "<style scoped>\n",
       "    .dataframe tbody tr th:only-of-type {\n",
       "        vertical-align: middle;\n",
       "    }\n",
       "\n",
       "    .dataframe tbody tr th {\n",
       "        vertical-align: top;\n",
       "    }\n",
       "\n",
       "    .dataframe thead th {\n",
       "        text-align: right;\n",
       "    }\n",
       "</style>\n",
       "<table border=\"1\" class=\"dataframe\">\n",
       "  <thead>\n",
       "    <tr style=\"text-align: right;\">\n",
       "      <th></th>\n",
       "      <th>swaps_num</th>\n",
       "    </tr>\n",
       "    <tr>\n",
       "      <th>time</th>\n",
       "      <th></th>\n",
       "    </tr>\n",
       "  </thead>\n",
       "  <tbody>\n",
       "    <tr>\n",
       "      <th>2022-03-08 00:00:00+00:00</th>\n",
       "      <td>405</td>\n",
       "    </tr>\n",
       "    <tr>\n",
       "      <th>2022-03-09 00:00:00+00:00</th>\n",
       "      <td>304</td>\n",
       "    </tr>\n",
       "    <tr>\n",
       "      <th>2022-03-10 00:00:00+00:00</th>\n",
       "      <td>274</td>\n",
       "    </tr>\n",
       "    <tr>\n",
       "      <th>2022-03-11 00:00:00+00:00</th>\n",
       "      <td>241</td>\n",
       "    </tr>\n",
       "    <tr>\n",
       "      <th>2022-03-12 00:00:00+00:00</th>\n",
       "      <td>253</td>\n",
       "    </tr>\n",
       "    <tr>\n",
       "      <th>...</th>\n",
       "      <td>...</td>\n",
       "    </tr>\n",
       "    <tr>\n",
       "      <th>2023-03-02 00:00:00+00:00</th>\n",
       "      <td>354</td>\n",
       "    </tr>\n",
       "    <tr>\n",
       "      <th>2023-03-03 00:00:00+00:00</th>\n",
       "      <td>420</td>\n",
       "    </tr>\n",
       "    <tr>\n",
       "      <th>2023-03-04 00:00:00+00:00</th>\n",
       "      <td>276</td>\n",
       "    </tr>\n",
       "    <tr>\n",
       "      <th>2023-03-05 00:00:00+00:00</th>\n",
       "      <td>269</td>\n",
       "    </tr>\n",
       "    <tr>\n",
       "      <th>2023-03-06 00:00:00+00:00</th>\n",
       "      <td>285</td>\n",
       "    </tr>\n",
       "  </tbody>\n",
       "</table>\n",
       "<p>358 rows × 1 columns</p>\n",
       "</div>"
      ],
      "text/plain": [
       "                           swaps_num\n",
       "time                                \n",
       "2022-03-08 00:00:00+00:00        405\n",
       "2022-03-09 00:00:00+00:00        304\n",
       "2022-03-10 00:00:00+00:00        274\n",
       "2022-03-11 00:00:00+00:00        241\n",
       "2022-03-12 00:00:00+00:00        253\n",
       "...                              ...\n",
       "2023-03-02 00:00:00+00:00        354\n",
       "2023-03-03 00:00:00+00:00        420\n",
       "2023-03-04 00:00:00+00:00        276\n",
       "2023-03-05 00:00:00+00:00        269\n",
       "2023-03-06 00:00:00+00:00        285\n",
       "\n",
       "[358 rows x 1 columns]"
      ]
     },
     "execution_count": 16,
     "metadata": {},
     "output_type": "execute_result"
    }
   ],
   "source": [
    "swaps_number_query = \"\"\"SELECT bucket as time, sum(count) as swaps_num\n",
    "FROM exchange.eth.series.swap_number_ticks_daily\n",
    "WHERE bucket >= now() - interval '12' month\n",
    "and (token0_id = {token_id} or token1_id = {token_id})\n",
    "group by 1\n",
    "order by 1;\"\"\".format(token_id=token['id'][0])\n",
    "\n",
    "swaps_num = client.get_data_response(swaps_number_query)\n",
    "swaps_num['time'] = pd.to_datetime(swaps_num['time'])\n",
    "swaps_num.set_index('time', inplace=True)\n",
    "swaps_num['swaps_num'] = pd.to_numeric(swaps_num['swaps_num'])\n",
    "swaps_num"
   ]
  },
  {
   "cell_type": "markdown",
   "metadata": {},
   "source": [
    "## Holders of LINK"
   ]
  },
  {
   "cell_type": "code",
   "execution_count": 17,
   "metadata": {},
   "outputs": [
    {
     "data": {
      "application/vnd.jupyter.widget-view+json": {
       "model_id": "ab5d7f26f24043b78f1015501ed8f763",
       "version_major": 2,
       "version_minor": 0
      },
      "text/plain": [
       "Waiting for response till limit:   0%|          | 0/600 [00:00<?, ?it/s]"
      ]
     },
     "metadata": {},
     "output_type": "display_data"
    },
    {
     "data": {
      "text/html": [
       "<div>\n",
       "<style scoped>\n",
       "    .dataframe tbody tr th:only-of-type {\n",
       "        vertical-align: middle;\n",
       "    }\n",
       "\n",
       "    .dataframe tbody tr th {\n",
       "        vertical-align: top;\n",
       "    }\n",
       "\n",
       "    .dataframe thead th {\n",
       "        text-align: right;\n",
       "    }\n",
       "</style>\n",
       "<table border=\"1\" class=\"dataframe\">\n",
       "  <thead>\n",
       "    <tr style=\"text-align: right;\">\n",
       "      <th></th>\n",
       "      <th>holders</th>\n",
       "    </tr>\n",
       "  </thead>\n",
       "  <tbody>\n",
       "    <tr>\n",
       "      <th>0</th>\n",
       "      <td>356954</td>\n",
       "    </tr>\n",
       "  </tbody>\n",
       "</table>\n",
       "</div>"
      ],
      "text/plain": [
       "   holders\n",
       "0   356954"
      ]
     },
     "execution_count": 17,
     "metadata": {},
     "output_type": "execute_result"
    }
   ],
   "source": [
    "holders_query = \"\"\"SELECT count(*) as holders\n",
    "from exchange.eth.series.balances\n",
    "where token = {token_id}\n",
    "  and cast(balance as decimal(38, 18)) > 0;\"\"\".format(token_id=token['id'][0])\n",
    "\n",
    "holders = client.get_data_response(holders_query)\n",
    "holders\n"
   ]
  },
  {
   "cell_type": "markdown",
   "metadata": {},
   "source": [
    "## Market Capitalization"
   ]
  },
  {
   "cell_type": "code",
   "execution_count": 18,
   "metadata": {},
   "outputs": [
    {
     "data": {
      "application/vnd.jupyter.widget-view+json": {
       "model_id": "6905d65c8fd945bfbb31d8818e30b6aa",
       "version_major": 2,
       "version_minor": 0
      },
      "text/plain": [
       "Waiting for response till limit:   0%|          | 0/600 [00:00<?, ?it/s]"
      ]
     },
     "metadata": {},
     "output_type": "display_data"
    }
   ],
   "source": [
    "market_cap_query = \"\"\"SELECT *\n",
    "from exchange.eth.raw.market_capitalizations\n",
    "where token_id = {token_id};\"\"\".format(token_id=token['id'][0])\n",
    "\n",
    "market_cap = client.get_data_response(market_cap_query)\n",
    "market_cap['market_cap'] = pd.to_numeric(market_cap['market_cap'])\n",
    "market_cap['price_stable'] = pd.to_numeric(market_cap['price_stable'])\n",
    "market_cap['price_peg'] = pd.to_numeric(market_cap['price_peg'])"
   ]
  },
  {
   "cell_type": "code",
   "execution_count": 19,
   "metadata": {},
   "outputs": [
    {
     "name": "stdout",
     "output_type": "stream",
     "text": [
      "Recent price of LINK: $6.909043399271731 or equivalently 0.0043940017549745 ETH\n",
      "Market Capitalization: $6909043356.869492\n",
      "And currently there is 356954 holders of LINK.\n"
     ]
    }
   ],
   "source": [
    "print(\"Recent price of {token}: ${price_stable} or equivalently {price_peg} ETH\".format(token=token['symbol'][0],\n",
    "                                                                                        price_stable=\n",
    "                                                                                        market_cap['price_stable'][0],\n",
    "                                                                                        price_peg=\n",
    "                                                                                        market_cap['price_peg'][0]))\n",
    "print(\"Market Capitalization: ${market_cap}\".format(market_cap=market_cap['market_cap'][0]))\n",
    "print(\"And currently there is {holders} holders of {token}.\".format(holders=holders['holders'][0],\n",
    "                                                                    token=token['symbol'][0]))"
   ]
  },
  {
   "cell_type": "code",
   "execution_count": 19,
   "metadata": {},
   "outputs": [],
   "source": []
  },
  {
   "cell_type": "markdown",
   "metadata": {},
   "source": [
    "## Get TOHLCV for LINK"
   ]
  },
  {
   "cell_type": "code",
   "execution_count": 20,
   "metadata": {},
   "outputs": [
    {
     "data": {
      "application/vnd.jupyter.widget-view+json": {
       "model_id": "ff0117ee0ea44a28881025fcbc4666e0",
       "version_major": 2,
       "version_minor": 0
      },
      "text/plain": [
       "Waiting for response till limit:   0%|          | 0/600 [00:00<?, ?it/s]"
      ]
     },
     "metadata": {},
     "output_type": "display_data"
    },
    {
     "data": {
      "text/html": [
       "<div>\n",
       "<style scoped>\n",
       "    .dataframe tbody tr th:only-of-type {\n",
       "        vertical-align: middle;\n",
       "    }\n",
       "\n",
       "    .dataframe tbody tr th {\n",
       "        vertical-align: top;\n",
       "    }\n",
       "\n",
       "    .dataframe thead th {\n",
       "        text-align: right;\n",
       "    }\n",
       "</style>\n",
       "<table border=\"1\" class=\"dataframe\">\n",
       "  <thead>\n",
       "    <tr style=\"text-align: right;\">\n",
       "      <th></th>\n",
       "      <th>close_stable</th>\n",
       "      <th>high_stable</th>\n",
       "      <th>low_stable</th>\n",
       "      <th>open_stable</th>\n",
       "      <th>volume</th>\n",
       "    </tr>\n",
       "    <tr>\n",
       "      <th>time</th>\n",
       "      <th></th>\n",
       "      <th></th>\n",
       "      <th></th>\n",
       "      <th></th>\n",
       "      <th></th>\n",
       "    </tr>\n",
       "  </thead>\n",
       "  <tbody>\n",
       "    <tr>\n",
       "      <th>2022-03-08 00:00:00+00:00</th>\n",
       "      <td>13.069314</td>\n",
       "      <td>13.493957</td>\n",
       "      <td>12.670111</td>\n",
       "      <td>12.804683</td>\n",
       "      <td>49296.5279908476115591</td>\n",
       "    </tr>\n",
       "    <tr>\n",
       "      <th>2022-03-09 00:00:00+00:00</th>\n",
       "      <td>13.886584</td>\n",
       "      <td>14.379942</td>\n",
       "      <td>13.112718</td>\n",
       "      <td>13.112718</td>\n",
       "      <td>16163.9610884303655125</td>\n",
       "    </tr>\n",
       "    <tr>\n",
       "      <th>2022-03-10 00:00:00+00:00</th>\n",
       "      <td>13.220810</td>\n",
       "      <td>14.050729</td>\n",
       "      <td>12.882410</td>\n",
       "      <td>14.002837</td>\n",
       "      <td>23775.1257136481062012</td>\n",
       "    </tr>\n",
       "    <tr>\n",
       "      <th>2022-03-11 00:00:00+00:00</th>\n",
       "      <td>13.057144</td>\n",
       "      <td>13.535923</td>\n",
       "      <td>12.806655</td>\n",
       "      <td>13.038760</td>\n",
       "      <td>25998.7004235380332810</td>\n",
       "    </tr>\n",
       "    <tr>\n",
       "      <th>2022-03-12 00:00:00+00:00</th>\n",
       "      <td>13.229132</td>\n",
       "      <td>13.404401</td>\n",
       "      <td>13.061210</td>\n",
       "      <td>13.061210</td>\n",
       "      <td>9274.7909984195660581</td>\n",
       "    </tr>\n",
       "    <tr>\n",
       "      <th>...</th>\n",
       "      <td>...</td>\n",
       "      <td>...</td>\n",
       "      <td>...</td>\n",
       "      <td>...</td>\n",
       "      <td>...</td>\n",
       "    </tr>\n",
       "    <tr>\n",
       "      <th>2023-03-02 00:00:00+00:00</th>\n",
       "      <td>7.268035</td>\n",
       "      <td>7.580278</td>\n",
       "      <td>7.199256</td>\n",
       "      <td>7.474424</td>\n",
       "      <td>3251.2467215723656510</td>\n",
       "    </tr>\n",
       "    <tr>\n",
       "      <th>2023-03-03 00:00:00+00:00</th>\n",
       "      <td>6.898953</td>\n",
       "      <td>7.053375</td>\n",
       "      <td>6.765071</td>\n",
       "      <td>7.053375</td>\n",
       "      <td>7148.0333802582681729</td>\n",
       "    </tr>\n",
       "    <tr>\n",
       "      <th>2023-03-04 00:00:00+00:00</th>\n",
       "      <td>6.808929</td>\n",
       "      <td>6.960006</td>\n",
       "      <td>6.701513</td>\n",
       "      <td>6.933213</td>\n",
       "      <td>6296.0253264914576586</td>\n",
       "    </tr>\n",
       "    <tr>\n",
       "      <th>2023-03-05 00:00:00+00:00</th>\n",
       "      <td>6.937068</td>\n",
       "      <td>7.013379</td>\n",
       "      <td>6.834059</td>\n",
       "      <td>6.859880</td>\n",
       "      <td>5516.0354106361378577</td>\n",
       "    </tr>\n",
       "    <tr>\n",
       "      <th>2023-03-06 00:00:00+00:00</th>\n",
       "      <td>6.866297</td>\n",
       "      <td>6.950859</td>\n",
       "      <td>6.838650</td>\n",
       "      <td>6.888929</td>\n",
       "      <td>2691.2384738500454424</td>\n",
       "    </tr>\n",
       "  </tbody>\n",
       "</table>\n",
       "<p>350 rows × 5 columns</p>\n",
       "</div>"
      ],
      "text/plain": [
       "                           close_stable  high_stable  low_stable  open_stable  \\\n",
       "time                                                                            \n",
       "2022-03-08 00:00:00+00:00     13.069314    13.493957   12.670111    12.804683   \n",
       "2022-03-09 00:00:00+00:00     13.886584    14.379942   13.112718    13.112718   \n",
       "2022-03-10 00:00:00+00:00     13.220810    14.050729   12.882410    14.002837   \n",
       "2022-03-11 00:00:00+00:00     13.057144    13.535923   12.806655    13.038760   \n",
       "2022-03-12 00:00:00+00:00     13.229132    13.404401   13.061210    13.061210   \n",
       "...                                 ...          ...         ...          ...   \n",
       "2023-03-02 00:00:00+00:00      7.268035     7.580278    7.199256     7.474424   \n",
       "2023-03-03 00:00:00+00:00      6.898953     7.053375    6.765071     7.053375   \n",
       "2023-03-04 00:00:00+00:00      6.808929     6.960006    6.701513     6.933213   \n",
       "2023-03-05 00:00:00+00:00      6.937068     7.013379    6.834059     6.859880   \n",
       "2023-03-06 00:00:00+00:00      6.866297     6.950859    6.838650     6.888929   \n",
       "\n",
       "                                           volume  \n",
       "time                                               \n",
       "2022-03-08 00:00:00+00:00  49296.5279908476115591  \n",
       "2022-03-09 00:00:00+00:00  16163.9610884303655125  \n",
       "2022-03-10 00:00:00+00:00  23775.1257136481062012  \n",
       "2022-03-11 00:00:00+00:00  25998.7004235380332810  \n",
       "2022-03-12 00:00:00+00:00   9274.7909984195660581  \n",
       "...                                           ...  \n",
       "2023-03-02 00:00:00+00:00   3251.2467215723656510  \n",
       "2023-03-03 00:00:00+00:00   7148.0333802582681729  \n",
       "2023-03-04 00:00:00+00:00   6296.0253264914576586  \n",
       "2023-03-05 00:00:00+00:00   5516.0354106361378577  \n",
       "2023-03-06 00:00:00+00:00   2691.2384738500454424  \n",
       "\n",
       "[350 rows x 5 columns]"
      ]
     },
     "execution_count": 20,
     "metadata": {},
     "output_type": "execute_result"
    }
   ],
   "source": [
    "tohlcv_query = \"\"\"SELECT p.bucket as time, open_stable, high_stable, low_stable, close_stable, v.volume\n",
    "FROM exchange.eth.series.price_ticks_daily p\n",
    "         join exchange.eth.series.volume_ticks_daily v\n",
    "              on (p.bucket = v.bucket and p.token_id = v.token_id and p.platform_id = v.platform_id)\n",
    "WHERE p.token_id = {token_id}\n",
    "  and p.bucket >= now() - interval '12' month\n",
    "  and p.platform_id = 1\n",
    "ORDER BY time;\"\"\".format(token_id=token['id'][0])\n",
    "\n",
    "tohlcv_resp = client.get_data_response(tohlcv_query)\n",
    "tohlcv_resp['time'] = pd.to_datetime(tohlcv_resp['time'])\n",
    "tohlcv_resp.set_index('time', inplace=True)\n",
    "tohlcv_resp['open_stable'] = pd.to_numeric(tohlcv_resp['open_stable'])\n",
    "tohlcv_resp['high_stable'] = pd.to_numeric(tohlcv_resp['high_stable'])\n",
    "tohlcv_resp['low_stable'] = pd.to_numeric(tohlcv_resp['low_stable'])\n",
    "tohlcv_resp['close_stable'] = pd.to_numeric(tohlcv_resp['close_stable'])\n",
    "tohlcv_resp"
   ]
  },
  {
   "cell_type": "markdown",
   "metadata": {},
   "source": [
    "## Plot stats against price"
   ]
  },
  {
   "cell_type": "code",
   "execution_count": 20,
   "metadata": {},
   "outputs": [],
   "source": []
  },
  {
   "cell_type": "code",
   "execution_count": 21,
   "metadata": {},
   "outputs": [
    {
     "data": {
      "image/png": "[encoded data removed]"
     },
     "metadata": {},
     "output_type": "display_data"
    }
   ],
   "source": [
    "fig = make_subplots(rows=2, cols=1, shared_xaxes=True)\n",
    "\n",
    "candlestick = go.Candlestick(\n",
    "    x=tohlcv_resp.index.to_list(),\n",
    "    open=tohlcv_resp['open_stable'],\n",
    "    high=tohlcv_resp['high_stable'],\n",
    "    low=tohlcv_resp['low_stable'],\n",
    "    close=tohlcv_resp['close_stable'],\n",
    "    name=\"Price\"\n",
    ")\n",
    "\n",
    "swaps_p = go.Scatter(x=swaps_num.index.to_list(),\n",
    "                     y=swaps_num['swaps_num'],\n",
    "                     name=\"swaps number {token}\".format(token=token['symbol'][0]),\n",
    "                     mode='lines',\n",
    "                     line=dict(width=0.8, color=\"#1f77b4\"),\n",
    "                     )\n",
    "\n",
    "fig.add_trace(candlestick, row=1, col=1)\n",
    "fig.add_trace(swaps_p, row=2, col=1)\n",
    "\n",
    "fig.update_layout(\n",
    "    width=1200, height=600,\n",
    "    title=\"Activity Stats of {token} vs its price\".format(token=token[\"symbol\"][0]),\n",
    "    xaxis_rangeslider_visible=False,\n",
    "    # paper_bgcolor='rgba(0,0,0,0)',\n",
    "    # plot_bgcolor='rgba(0,0,0,0)',\n",
    "    yaxis=dict(\n",
    "        title=\"Price ($)\",\n",
    "        anchor=\"x\",\n",
    "        overlaying=\"y\",\n",
    "        side=\"right\",\n",
    "        tickmode=\"sync\",\n",
    "    ),\n",
    "    legend=dict(\n",
    "        yanchor=\"top\",\n",
    "        y=0.99,\n",
    "        xanchor=\"right\",\n",
    "        x=1.25\n",
    "    ),\n",
    "    template = \"plotly_white\"\n",
    ")\n",
    "\n",
    "fig.update_yaxes(title=\"Swaps Number of {token}\".format(token=token['symbol'][0]),\n",
    "                 titlefont=dict(\n",
    "                     color=\"#1f77b4\"\n",
    "                 ),\n",
    "                 tickfont=dict(\n",
    "                     color=\"#1f77b4\"\n",
    "                 ),\n",
    "                 tickmode=\"sync\",\n",
    "                 row=2, col=1)\n",
    "\n",
    "fig.show(\"png\")"
   ]
  },
  {
   "cell_type": "code",
   "execution_count": 21,
   "metadata": {},
   "outputs": [],
   "source": []
  }
 ],
 "metadata": {
  "kernelspec": {
   "display_name": "Python 3 (ipykernel)",
   "language": "python",
   "name": "python3"
  },
  "language_info": {
   "codemirror_mode": {
    "name": "ipython",
    "version": 3
   },
   "file_extension": ".py",
   "mimetype": "text/x-python",
   "name": "python",
   "nbconvert_exporter": "python",
   "pygments_lexer": "ipython3",
   "version": "3.10.6"
  }
 },
 "nbformat": 4,
 "nbformat_minor": 1
}
